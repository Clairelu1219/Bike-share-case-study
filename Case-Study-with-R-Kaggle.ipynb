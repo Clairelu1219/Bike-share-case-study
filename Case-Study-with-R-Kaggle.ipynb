{
 "cells": [
  {
   "cell_type": "markdown",
   "id": "48dcd371",
   "metadata": {
    "papermill": {
     "duration": 0.009238,
     "end_time": "2023-03-10T01:02:59.384971",
     "exception": false,
     "start_time": "2023-03-10T01:02:59.375733",
     "status": "completed"
    },
    "tags": []
   },
   "source": [
    "# Introduction\n",
    "This is my [Google Data Analytics Professional Certificate](https://www.coursera.org/professional-certificates/google-data-analytics) course case study project.\n",
    "<br>Analysis tool: R programming language(RStudio) to do statistical analysisand data visualizations.<br>\n",
    "\n",
    "##### **This project followed Data Analysis Steps Process**\n",
    "1. Ask\n",
    "1. Prepare\n",
    "1. Process\n",
    "1. Analyze\n",
    "1. Share\n",
    "1. Act"
   ]
  },
  {
   "cell_type": "markdown",
   "id": "1135617b",
   "metadata": {
    "papermill": {
     "duration": 0.007684,
     "end_time": "2023-03-10T01:02:59.400478",
     "exception": false,
     "start_time": "2023-03-10T01:02:59.392794",
     "status": "completed"
    },
    "tags": []
   },
   "source": [
    "# Scenario\n",
    "You are a junior data analyst working in the marketing analyst team at Cyclistic, a bike-share company in Chicago. The director of marketing believes the company’s future success depends on maximizing the number of annual memberships. Therefore, your team wants to understand how casual riders and annual members use Cyclistic bikes differently. From these insights, your team will design a new marketing strategy to convert casual riders into annual members. But first, Cyclistic executives must approve your recommendations, so they must be backed up with compelling data insights and professional data visualizations.\n",
    "\n",
    "##### **Key Stakeholders**\n",
    "* Cyclistic executive team: Cyclistic is a bike-share program that features more than 5,800 bicycles and 600 docking stations. \n",
    "* Lily Moreno: The director of marketing and your manager.\n",
    "* Marketing Analytics team."
   ]
  },
  {
   "cell_type": "markdown",
   "id": "5f5fa17c",
   "metadata": {
    "papermill": {
     "duration": 0.007739,
     "end_time": "2023-03-10T01:02:59.415861",
     "exception": false,
     "start_time": "2023-03-10T01:02:59.408122",
     "status": "completed"
    },
    "tags": []
   },
   "source": [
    "# 1. Ask\n",
    "\n",
    "##### Three questions will guide the future marketing program:\n",
    "1. How do annual members and casual riders use Cyclistic bikes differently?\n",
    "1. Why would casual riders buy Cyclistic annual memberships?\n",
    "1. How can Cyclistic use digital media to influence casual riders to become members?\n",
    "\n",
    "##### Key Tasks\n",
    "- [x] Identify the business tas:\n",
    "    * By analyzing the data to find out the differenence between 'Member' and 'Casual' customers. And help generate the best marketing strategy for Cyclistic.   \n",
    "- [x] Consider key stakeholders:\n",
    "    * Cyclistic executive team, Director of Marketing (Lily Moreno),and Marketing Analytics team.\n",
    "\n",
    "##### Deliverable\n",
    "- [x] A clear statement of the business task\n",
    "    * Find out the differenence between 'Member' and 'Casual' customers."
   ]
  },
  {
   "cell_type": "markdown",
   "id": "e7651a6d",
   "metadata": {
    "papermill": {
     "duration": 0.007638,
     "end_time": "2023-03-10T01:02:59.431127",
     "exception": false,
     "start_time": "2023-03-10T01:02:59.423489",
     "status": "completed"
    },
    "tags": []
   },
   "source": [
    "# 2. Prepare\n",
    "\n",
    "##### **About the Data**\n",
    "* The data is available for [download](http://divvy-tripdata.s3.amazonaws.com/index.html) by **Motivate International Inc.** I have created a new [Kaggle dataset](https://www.kaggle.com/datasets/clairebilodeau/cyclistic-2022m01-m12).\n",
    "* I'm using the records from the past 12 months (Januaey 2022 - December 2022).\n",
    "* This is a first-party data.\n",
    "* It is distributed under a [license](https://ride.divvybikes.com/data-license-agreement).\n",
    "* There is not Personally Identifiable Information (PII).\n",
    "\n",
    "##### Key Tasks\n",
    "- [x] Download data and store it appropriately.\n",
    "    * I download dataset [here](http://divvy-tripdata.s3.amazonaws.com/index.html) and created a new [Kaggle dataset](https://www.kaggle.com/datasets/clairebilodeau/cyclistic-2022m01-m12).\n",
    "- [x] Identify how it’s organized.\n",
    "    * All trip data are in comma-delimited (.CSV) format. Each month is an individual file.\n",
    "- [x] Sort and filter the data.\n",
    "- [x] Determine the credibility of the data.\n",
    "\n",
    "##### Deliverable\n",
    "- [x] A description of all data sources used\n",
    "    * Data source is company internal data."
   ]
  },
  {
   "cell_type": "code",
   "execution_count": 1,
   "id": "248a852c",
   "metadata": {
    "_kg_hide-output": true,
    "execution": {
     "iopub.execute_input": "2023-03-10T01:02:59.451400Z",
     "iopub.status.busy": "2023-03-10T01:02:59.448786Z",
     "iopub.status.idle": "2023-03-10T01:03:01.110348Z",
     "shell.execute_reply": "2023-03-10T01:03:01.108057Z"
    },
    "papermill": {
     "duration": 1.674582,
     "end_time": "2023-03-10T01:03:01.113271",
     "exception": false,
     "start_time": "2023-03-10T01:02:59.438689",
     "status": "completed"
    },
    "tags": []
   },
   "outputs": [
    {
     "name": "stderr",
     "output_type": "stream",
     "text": [
      "── \u001b[1mAttaching packages\u001b[22m ─────────────────────────────────────── tidyverse 1.3.2 ──\n",
      "\u001b[32m✔\u001b[39m \u001b[34mggplot2\u001b[39m 3.4.0      \u001b[32m✔\u001b[39m \u001b[34mpurrr  \u001b[39m 1.0.1 \n",
      "\u001b[32m✔\u001b[39m \u001b[34mtibble \u001b[39m 3.1.8      \u001b[32m✔\u001b[39m \u001b[34mdplyr  \u001b[39m 1.0.10\n",
      "\u001b[32m✔\u001b[39m \u001b[34mtidyr  \u001b[39m 1.2.1      \u001b[32m✔\u001b[39m \u001b[34mstringr\u001b[39m 1.5.0 \n",
      "\u001b[32m✔\u001b[39m \u001b[34mreadr  \u001b[39m 2.1.3      \u001b[32m✔\u001b[39m \u001b[34mforcats\u001b[39m 0.5.2 \n",
      "── \u001b[1mConflicts\u001b[22m ────────────────────────────────────────── tidyverse_conflicts() ──\n",
      "\u001b[31m✖\u001b[39m \u001b[34mdplyr\u001b[39m::\u001b[32mfilter()\u001b[39m masks \u001b[34mstats\u001b[39m::filter()\n",
      "\u001b[31m✖\u001b[39m \u001b[34mdplyr\u001b[39m::\u001b[32mlag()\u001b[39m    masks \u001b[34mstats\u001b[39m::lag()\n",
      "Loading required package: timechange\n",
      "\n",
      "\n",
      "Attaching package: ‘lubridate’\n",
      "\n",
      "\n",
      "The following objects are masked from ‘package:base’:\n",
      "\n",
      "    date, intersect, setdiff, union\n",
      "\n",
      "\n",
      "\n",
      "Attaching package: ‘janitor’\n",
      "\n",
      "\n",
      "The following objects are masked from ‘package:stats’:\n",
      "\n",
      "    chisq.test, fisher.test\n",
      "\n",
      "\n"
     ]
    }
   ],
   "source": [
    "## Install and load R packages\n",
    "library(tidyverse)\n",
    "library(ggplot2)\n",
    "library(lubridate)\n",
    "library(janitor)\n",
    "library(readr)\n",
    "library(tidyr)"
   ]
  },
  {
   "cell_type": "code",
   "execution_count": 2,
   "id": "695c6df3",
   "metadata": {
    "_kg_hide-output": true,
    "execution": {
     "iopub.execute_input": "2023-03-10T01:03:01.165745Z",
     "iopub.status.busy": "2023-03-10T01:03:01.132704Z",
     "iopub.status.idle": "2023-03-10T01:03:31.388813Z",
     "shell.execute_reply": "2023-03-10T01:03:31.387056Z"
    },
    "papermill": {
     "duration": 30.269093,
     "end_time": "2023-03-10T01:03:31.391385",
     "exception": false,
     "start_time": "2023-03-10T01:03:01.122292",
     "status": "completed"
    },
    "tags": []
   },
   "outputs": [
    {
     "name": "stderr",
     "output_type": "stream",
     "text": [
      "\u001b[1mRows: \u001b[22m\u001b[34m103770\u001b[39m \u001b[1mColumns: \u001b[22m\u001b[34m13\u001b[39m\n",
      "\u001b[36m──\u001b[39m \u001b[1mColumn specification\u001b[22m \u001b[36m────────────────────────────────────────────────────────\u001b[39m\n",
      "\u001b[1mDelimiter:\u001b[22m \",\"\n",
      "\u001b[31mchr\u001b[39m  (7): ride_id, rideable_type, start_station_name, start_station_id, end_...\n",
      "\u001b[32mdbl\u001b[39m  (4): start_lat, start_lng, end_lat, end_lng\n",
      "\u001b[34mdttm\u001b[39m (2): started_at, ended_at\n",
      "\n",
      "\u001b[36mℹ\u001b[39m Use `spec()` to retrieve the full column specification for this data.\n",
      "\u001b[36mℹ\u001b[39m Specify the column types or set `show_col_types = FALSE` to quiet this message.\n",
      "\u001b[1mRows: \u001b[22m\u001b[34m115609\u001b[39m \u001b[1mColumns: \u001b[22m\u001b[34m13\u001b[39m\n",
      "\u001b[36m──\u001b[39m \u001b[1mColumn specification\u001b[22m \u001b[36m────────────────────────────────────────────────────────\u001b[39m\n",
      "\u001b[1mDelimiter:\u001b[22m \",\"\n",
      "\u001b[31mchr\u001b[39m  (7): ride_id, rideable_type, start_station_name, start_station_id, end_...\n",
      "\u001b[32mdbl\u001b[39m  (4): start_lat, start_lng, end_lat, end_lng\n",
      "\u001b[34mdttm\u001b[39m (2): started_at, ended_at\n",
      "\n",
      "\u001b[36mℹ\u001b[39m Use `spec()` to retrieve the full column specification for this data.\n",
      "\u001b[36mℹ\u001b[39m Specify the column types or set `show_col_types = FALSE` to quiet this message.\n",
      "\u001b[1mRows: \u001b[22m\u001b[34m284042\u001b[39m \u001b[1mColumns: \u001b[22m\u001b[34m13\u001b[39m\n",
      "\u001b[36m──\u001b[39m \u001b[1mColumn specification\u001b[22m \u001b[36m────────────────────────────────────────────────────────\u001b[39m\n",
      "\u001b[1mDelimiter:\u001b[22m \",\"\n",
      "\u001b[31mchr\u001b[39m  (7): ride_id, rideable_type, start_station_name, start_station_id, end_...\n",
      "\u001b[32mdbl\u001b[39m  (4): start_lat, start_lng, end_lat, end_lng\n",
      "\u001b[34mdttm\u001b[39m (2): started_at, ended_at\n",
      "\n",
      "\u001b[36mℹ\u001b[39m Use `spec()` to retrieve the full column specification for this data.\n",
      "\u001b[36mℹ\u001b[39m Specify the column types or set `show_col_types = FALSE` to quiet this message.\n",
      "\u001b[1mRows: \u001b[22m\u001b[34m371249\u001b[39m \u001b[1mColumns: \u001b[22m\u001b[34m13\u001b[39m\n",
      "\u001b[36m──\u001b[39m \u001b[1mColumn specification\u001b[22m \u001b[36m────────────────────────────────────────────────────────\u001b[39m\n",
      "\u001b[1mDelimiter:\u001b[22m \",\"\n",
      "\u001b[31mchr\u001b[39m  (7): ride_id, rideable_type, start_station_name, start_station_id, end_...\n",
      "\u001b[32mdbl\u001b[39m  (4): start_lat, start_lng, end_lat, end_lng\n",
      "\u001b[34mdttm\u001b[39m (2): started_at, ended_at\n",
      "\n",
      "\u001b[36mℹ\u001b[39m Use `spec()` to retrieve the full column specification for this data.\n",
      "\u001b[36mℹ\u001b[39m Specify the column types or set `show_col_types = FALSE` to quiet this message.\n",
      "\u001b[1mRows: \u001b[22m\u001b[34m634858\u001b[39m \u001b[1mColumns: \u001b[22m\u001b[34m13\u001b[39m\n",
      "\u001b[36m──\u001b[39m \u001b[1mColumn specification\u001b[22m \u001b[36m────────────────────────────────────────────────────────\u001b[39m\n",
      "\u001b[1mDelimiter:\u001b[22m \",\"\n",
      "\u001b[31mchr\u001b[39m  (7): ride_id, rideable_type, start_station_name, start_station_id, end_...\n",
      "\u001b[32mdbl\u001b[39m  (4): start_lat, start_lng, end_lat, end_lng\n",
      "\u001b[34mdttm\u001b[39m (2): started_at, ended_at\n",
      "\n",
      "\u001b[36mℹ\u001b[39m Use `spec()` to retrieve the full column specification for this data.\n",
      "\u001b[36mℹ\u001b[39m Specify the column types or set `show_col_types = FALSE` to quiet this message.\n",
      "\u001b[1mRows: \u001b[22m\u001b[34m769204\u001b[39m \u001b[1mColumns: \u001b[22m\u001b[34m13\u001b[39m\n",
      "\u001b[36m──\u001b[39m \u001b[1mColumn specification\u001b[22m \u001b[36m────────────────────────────────────────────────────────\u001b[39m\n",
      "\u001b[1mDelimiter:\u001b[22m \",\"\n",
      "\u001b[31mchr\u001b[39m  (7): ride_id, rideable_type, start_station_name, start_station_id, end_...\n",
      "\u001b[32mdbl\u001b[39m  (4): start_lat, start_lng, end_lat, end_lng\n",
      "\u001b[34mdttm\u001b[39m (2): started_at, ended_at\n",
      "\n",
      "\u001b[36mℹ\u001b[39m Use `spec()` to retrieve the full column specification for this data.\n",
      "\u001b[36mℹ\u001b[39m Specify the column types or set `show_col_types = FALSE` to quiet this message.\n",
      "\u001b[1mRows: \u001b[22m\u001b[34m823488\u001b[39m \u001b[1mColumns: \u001b[22m\u001b[34m13\u001b[39m\n",
      "\u001b[36m──\u001b[39m \u001b[1mColumn specification\u001b[22m \u001b[36m────────────────────────────────────────────────────────\u001b[39m\n",
      "\u001b[1mDelimiter:\u001b[22m \",\"\n",
      "\u001b[31mchr\u001b[39m  (7): ride_id, rideable_type, start_station_name, start_station_id, end_...\n",
      "\u001b[32mdbl\u001b[39m  (4): start_lat, start_lng, end_lat, end_lng\n",
      "\u001b[34mdttm\u001b[39m (2): started_at, ended_at\n",
      "\n",
      "\u001b[36mℹ\u001b[39m Use `spec()` to retrieve the full column specification for this data.\n",
      "\u001b[36mℹ\u001b[39m Specify the column types or set `show_col_types = FALSE` to quiet this message.\n",
      "\u001b[1mRows: \u001b[22m\u001b[34m785932\u001b[39m \u001b[1mColumns: \u001b[22m\u001b[34m13\u001b[39m\n",
      "\u001b[36m──\u001b[39m \u001b[1mColumn specification\u001b[22m \u001b[36m────────────────────────────────────────────────────────\u001b[39m\n",
      "\u001b[1mDelimiter:\u001b[22m \",\"\n",
      "\u001b[31mchr\u001b[39m  (7): ride_id, rideable_type, start_station_name, start_station_id, end_...\n",
      "\u001b[32mdbl\u001b[39m  (4): start_lat, start_lng, end_lat, end_lng\n",
      "\u001b[34mdttm\u001b[39m (2): started_at, ended_at\n",
      "\n",
      "\u001b[36mℹ\u001b[39m Use `spec()` to retrieve the full column specification for this data.\n",
      "\u001b[36mℹ\u001b[39m Specify the column types or set `show_col_types = FALSE` to quiet this message.\n",
      "\u001b[1mRows: \u001b[22m\u001b[34m701339\u001b[39m \u001b[1mColumns: \u001b[22m\u001b[34m13\u001b[39m\n",
      "\u001b[36m──\u001b[39m \u001b[1mColumn specification\u001b[22m \u001b[36m────────────────────────────────────────────────────────\u001b[39m\n",
      "\u001b[1mDelimiter:\u001b[22m \",\"\n",
      "\u001b[31mchr\u001b[39m  (7): ride_id, rideable_type, start_station_name, start_station_id, end_...\n",
      "\u001b[32mdbl\u001b[39m  (4): start_lat, start_lng, end_lat, end_lng\n",
      "\u001b[34mdttm\u001b[39m (2): started_at, ended_at\n",
      "\n",
      "\u001b[36mℹ\u001b[39m Use `spec()` to retrieve the full column specification for this data.\n",
      "\u001b[36mℹ\u001b[39m Specify the column types or set `show_col_types = FALSE` to quiet this message.\n",
      "\u001b[1mRows: \u001b[22m\u001b[34m558685\u001b[39m \u001b[1mColumns: \u001b[22m\u001b[34m13\u001b[39m\n",
      "\u001b[36m──\u001b[39m \u001b[1mColumn specification\u001b[22m \u001b[36m────────────────────────────────────────────────────────\u001b[39m\n",
      "\u001b[1mDelimiter:\u001b[22m \",\"\n",
      "\u001b[31mchr\u001b[39m  (7): ride_id, rideable_type, start_station_name, start_station_id, end_...\n",
      "\u001b[32mdbl\u001b[39m  (4): start_lat, start_lng, end_lat, end_lng\n",
      "\u001b[34mdttm\u001b[39m (2): started_at, ended_at\n",
      "\n",
      "\u001b[36mℹ\u001b[39m Use `spec()` to retrieve the full column specification for this data.\n",
      "\u001b[36mℹ\u001b[39m Specify the column types or set `show_col_types = FALSE` to quiet this message.\n",
      "\u001b[1mRows: \u001b[22m\u001b[34m337735\u001b[39m \u001b[1mColumns: \u001b[22m\u001b[34m13\u001b[39m\n",
      "\u001b[36m──\u001b[39m \u001b[1mColumn specification\u001b[22m \u001b[36m────────────────────────────────────────────────────────\u001b[39m\n",
      "\u001b[1mDelimiter:\u001b[22m \",\"\n",
      "\u001b[31mchr\u001b[39m  (7): ride_id, rideable_type, start_station_name, start_station_id, end_...\n",
      "\u001b[32mdbl\u001b[39m  (4): start_lat, start_lng, end_lat, end_lng\n",
      "\u001b[34mdttm\u001b[39m (2): started_at, ended_at\n",
      "\n",
      "\u001b[36mℹ\u001b[39m Use `spec()` to retrieve the full column specification for this data.\n",
      "\u001b[36mℹ\u001b[39m Specify the column types or set `show_col_types = FALSE` to quiet this message.\n",
      "\u001b[1mRows: \u001b[22m\u001b[34m181806\u001b[39m \u001b[1mColumns: \u001b[22m\u001b[34m13\u001b[39m\n",
      "\u001b[36m──\u001b[39m \u001b[1mColumn specification\u001b[22m \u001b[36m────────────────────────────────────────────────────────\u001b[39m\n",
      "\u001b[1mDelimiter:\u001b[22m \",\"\n",
      "\u001b[31mchr\u001b[39m  (7): ride_id, rideable_type, start_station_name, start_station_id, end_...\n",
      "\u001b[32mdbl\u001b[39m  (4): start_lat, start_lng, end_lat, end_lng\n",
      "\u001b[34mdttm\u001b[39m (2): started_at, ended_at\n",
      "\n",
      "\u001b[36mℹ\u001b[39m Use `spec()` to retrieve the full column specification for this data.\n",
      "\u001b[36mℹ\u001b[39m Specify the column types or set `show_col_types = FALSE` to quiet this message.\n"
     ]
    }
   ],
   "source": [
    "## Loading csv files into R\n",
    "jan22 <- read_csv(\"/kaggle/input/cyclistic-2022m01-m12/202201-divvy-tripdata.csv\")\n",
    "feb22 <- read_csv(\"/kaggle/input/cyclistic-2022m01-m12/202202-divvy-tripdata.csv\")\n",
    "mar22 <- read_csv(\"/kaggle/input/cyclistic-2022m01-m12/202203-divvy-tripdata.csv\")\n",
    "apr22 <- read_csv(\"/kaggle/input/cyclistic-2022m01-m12/202204-divvy-tripdata.csv\")\n",
    "may22 <- read_csv(\"/kaggle/input/cyclistic-2022m01-m12/202205-divvy-tripdata.csv\")\n",
    "jun22 <- read_csv(\"/kaggle/input/cyclistic-2022m01-m12/202206-divvy-tripdata.csv\")\n",
    "jul22 <- read_csv(\"/kaggle/input/cyclistic-2022m01-m12/202207-divvy-tripdata.csv\")\n",
    "aug22 <- read_csv(\"/kaggle/input/cyclistic-2022m01-m12/202208-divvy-tripdata.csv\")\n",
    "sep22 <- read_csv(\"/kaggle/input/cyclistic-2022m01-m12/202209-divvy-publictripdata.csv\")\n",
    "oct22 <- read_csv(\"/kaggle/input/cyclistic-2022m01-m12/202210-divvy-tripdata.csv\")\n",
    "nov22 <- read_csv(\"/kaggle/input/cyclistic-2022m01-m12/202211-divvy-tripdata.csv\")\n",
    "dec22 <- read_csv(\"/kaggle/input/cyclistic-2022m01-m12/202212-divvy-tripdata.csv\")"
   ]
  },
  {
   "cell_type": "code",
   "execution_count": 3,
   "id": "520887e7",
   "metadata": {
    "_kg_hide-output": true,
    "execution": {
     "iopub.execute_input": "2023-03-10T01:03:31.417619Z",
     "iopub.status.busy": "2023-03-10T01:03:31.414934Z",
     "iopub.status.idle": "2023-03-10T01:03:31.528892Z",
     "shell.execute_reply": "2023-03-10T01:03:31.526284Z"
    },
    "papermill": {
     "duration": 0.12937,
     "end_time": "2023-03-10T01:03:31.531800",
     "exception": false,
     "start_time": "2023-03-10T01:03:31.402430",
     "status": "completed"
    },
    "tags": []
   },
   "outputs": [
    {
     "data": {
      "text/html": [
       "<style>\n",
       ".list-inline {list-style: none; margin:0; padding: 0}\n",
       ".list-inline>li {display: inline-block}\n",
       ".list-inline>li:not(:last-child)::after {content: \"\\00b7\"; padding: 0 .5ex}\n",
       "</style>\n",
       "<ol class=list-inline><li>'ride_id'</li><li>'rideable_type'</li><li>'started_at'</li><li>'ended_at'</li><li>'start_station_name'</li><li>'start_station_id'</li><li>'end_station_name'</li><li>'end_station_id'</li><li>'start_lat'</li><li>'start_lng'</li><li>'end_lat'</li><li>'end_lng'</li><li>'member_casual'</li></ol>\n"
      ],
      "text/latex": [
       "\\begin{enumerate*}\n",
       "\\item 'ride\\_id'\n",
       "\\item 'rideable\\_type'\n",
       "\\item 'started\\_at'\n",
       "\\item 'ended\\_at'\n",
       "\\item 'start\\_station\\_name'\n",
       "\\item 'start\\_station\\_id'\n",
       "\\item 'end\\_station\\_name'\n",
       "\\item 'end\\_station\\_id'\n",
       "\\item 'start\\_lat'\n",
       "\\item 'start\\_lng'\n",
       "\\item 'end\\_lat'\n",
       "\\item 'end\\_lng'\n",
       "\\item 'member\\_casual'\n",
       "\\end{enumerate*}\n"
      ],
      "text/markdown": [
       "1. 'ride_id'\n",
       "2. 'rideable_type'\n",
       "3. 'started_at'\n",
       "4. 'ended_at'\n",
       "5. 'start_station_name'\n",
       "6. 'start_station_id'\n",
       "7. 'end_station_name'\n",
       "8. 'end_station_id'\n",
       "9. 'start_lat'\n",
       "10. 'start_lng'\n",
       "11. 'end_lat'\n",
       "12. 'end_lng'\n",
       "13. 'member_casual'\n",
       "\n",
       "\n"
      ],
      "text/plain": [
       " [1] \"ride_id\"            \"rideable_type\"      \"started_at\"        \n",
       " [4] \"ended_at\"           \"start_station_name\" \"start_station_id\"  \n",
       " [7] \"end_station_name\"   \"end_station_id\"     \"start_lat\"         \n",
       "[10] \"start_lng\"          \"end_lat\"            \"end_lng\"           \n",
       "[13] \"member_casual\"     "
      ]
     },
     "metadata": {},
     "output_type": "display_data"
    },
    {
     "data": {
      "text/html": [
       "<style>\n",
       ".list-inline {list-style: none; margin:0; padding: 0}\n",
       ".list-inline>li {display: inline-block}\n",
       ".list-inline>li:not(:last-child)::after {content: \"\\00b7\"; padding: 0 .5ex}\n",
       "</style>\n",
       "<ol class=list-inline><li>'ride_id'</li><li>'rideable_type'</li><li>'started_at'</li><li>'ended_at'</li><li>'start_station_name'</li><li>'start_station_id'</li><li>'end_station_name'</li><li>'end_station_id'</li><li>'start_lat'</li><li>'start_lng'</li><li>'end_lat'</li><li>'end_lng'</li><li>'member_casual'</li></ol>\n"
      ],
      "text/latex": [
       "\\begin{enumerate*}\n",
       "\\item 'ride\\_id'\n",
       "\\item 'rideable\\_type'\n",
       "\\item 'started\\_at'\n",
       "\\item 'ended\\_at'\n",
       "\\item 'start\\_station\\_name'\n",
       "\\item 'start\\_station\\_id'\n",
       "\\item 'end\\_station\\_name'\n",
       "\\item 'end\\_station\\_id'\n",
       "\\item 'start\\_lat'\n",
       "\\item 'start\\_lng'\n",
       "\\item 'end\\_lat'\n",
       "\\item 'end\\_lng'\n",
       "\\item 'member\\_casual'\n",
       "\\end{enumerate*}\n"
      ],
      "text/markdown": [
       "1. 'ride_id'\n",
       "2. 'rideable_type'\n",
       "3. 'started_at'\n",
       "4. 'ended_at'\n",
       "5. 'start_station_name'\n",
       "6. 'start_station_id'\n",
       "7. 'end_station_name'\n",
       "8. 'end_station_id'\n",
       "9. 'start_lat'\n",
       "10. 'start_lng'\n",
       "11. 'end_lat'\n",
       "12. 'end_lng'\n",
       "13. 'member_casual'\n",
       "\n",
       "\n"
      ],
      "text/plain": [
       " [1] \"ride_id\"            \"rideable_type\"      \"started_at\"        \n",
       " [4] \"ended_at\"           \"start_station_name\" \"start_station_id\"  \n",
       " [7] \"end_station_name\"   \"end_station_id\"     \"start_lat\"         \n",
       "[10] \"start_lng\"          \"end_lat\"            \"end_lng\"           \n",
       "[13] \"member_casual\"     "
      ]
     },
     "metadata": {},
     "output_type": "display_data"
    },
    {
     "data": {
      "text/html": [
       "<style>\n",
       ".list-inline {list-style: none; margin:0; padding: 0}\n",
       ".list-inline>li {display: inline-block}\n",
       ".list-inline>li:not(:last-child)::after {content: \"\\00b7\"; padding: 0 .5ex}\n",
       "</style>\n",
       "<ol class=list-inline><li>'ride_id'</li><li>'rideable_type'</li><li>'started_at'</li><li>'ended_at'</li><li>'start_station_name'</li><li>'start_station_id'</li><li>'end_station_name'</li><li>'end_station_id'</li><li>'start_lat'</li><li>'start_lng'</li><li>'end_lat'</li><li>'end_lng'</li><li>'member_casual'</li></ol>\n"
      ],
      "text/latex": [
       "\\begin{enumerate*}\n",
       "\\item 'ride\\_id'\n",
       "\\item 'rideable\\_type'\n",
       "\\item 'started\\_at'\n",
       "\\item 'ended\\_at'\n",
       "\\item 'start\\_station\\_name'\n",
       "\\item 'start\\_station\\_id'\n",
       "\\item 'end\\_station\\_name'\n",
       "\\item 'end\\_station\\_id'\n",
       "\\item 'start\\_lat'\n",
       "\\item 'start\\_lng'\n",
       "\\item 'end\\_lat'\n",
       "\\item 'end\\_lng'\n",
       "\\item 'member\\_casual'\n",
       "\\end{enumerate*}\n"
      ],
      "text/markdown": [
       "1. 'ride_id'\n",
       "2. 'rideable_type'\n",
       "3. 'started_at'\n",
       "4. 'ended_at'\n",
       "5. 'start_station_name'\n",
       "6. 'start_station_id'\n",
       "7. 'end_station_name'\n",
       "8. 'end_station_id'\n",
       "9. 'start_lat'\n",
       "10. 'start_lng'\n",
       "11. 'end_lat'\n",
       "12. 'end_lng'\n",
       "13. 'member_casual'\n",
       "\n",
       "\n"
      ],
      "text/plain": [
       " [1] \"ride_id\"            \"rideable_type\"      \"started_at\"        \n",
       " [4] \"ended_at\"           \"start_station_name\" \"start_station_id\"  \n",
       " [7] \"end_station_name\"   \"end_station_id\"     \"start_lat\"         \n",
       "[10] \"start_lng\"          \"end_lat\"            \"end_lng\"           \n",
       "[13] \"member_casual\"     "
      ]
     },
     "metadata": {},
     "output_type": "display_data"
    },
    {
     "data": {
      "text/html": [
       "<style>\n",
       ".list-inline {list-style: none; margin:0; padding: 0}\n",
       ".list-inline>li {display: inline-block}\n",
       ".list-inline>li:not(:last-child)::after {content: \"\\00b7\"; padding: 0 .5ex}\n",
       "</style>\n",
       "<ol class=list-inline><li>'ride_id'</li><li>'rideable_type'</li><li>'started_at'</li><li>'ended_at'</li><li>'start_station_name'</li><li>'start_station_id'</li><li>'end_station_name'</li><li>'end_station_id'</li><li>'start_lat'</li><li>'start_lng'</li><li>'end_lat'</li><li>'end_lng'</li><li>'member_casual'</li></ol>\n"
      ],
      "text/latex": [
       "\\begin{enumerate*}\n",
       "\\item 'ride\\_id'\n",
       "\\item 'rideable\\_type'\n",
       "\\item 'started\\_at'\n",
       "\\item 'ended\\_at'\n",
       "\\item 'start\\_station\\_name'\n",
       "\\item 'start\\_station\\_id'\n",
       "\\item 'end\\_station\\_name'\n",
       "\\item 'end\\_station\\_id'\n",
       "\\item 'start\\_lat'\n",
       "\\item 'start\\_lng'\n",
       "\\item 'end\\_lat'\n",
       "\\item 'end\\_lng'\n",
       "\\item 'member\\_casual'\n",
       "\\end{enumerate*}\n"
      ],
      "text/markdown": [
       "1. 'ride_id'\n",
       "2. 'rideable_type'\n",
       "3. 'started_at'\n",
       "4. 'ended_at'\n",
       "5. 'start_station_name'\n",
       "6. 'start_station_id'\n",
       "7. 'end_station_name'\n",
       "8. 'end_station_id'\n",
       "9. 'start_lat'\n",
       "10. 'start_lng'\n",
       "11. 'end_lat'\n",
       "12. 'end_lng'\n",
       "13. 'member_casual'\n",
       "\n",
       "\n"
      ],
      "text/plain": [
       " [1] \"ride_id\"            \"rideable_type\"      \"started_at\"        \n",
       " [4] \"ended_at\"           \"start_station_name\" \"start_station_id\"  \n",
       " [7] \"end_station_name\"   \"end_station_id\"     \"start_lat\"         \n",
       "[10] \"start_lng\"          \"end_lat\"            \"end_lng\"           \n",
       "[13] \"member_casual\"     "
      ]
     },
     "metadata": {},
     "output_type": "display_data"
    },
    {
     "data": {
      "text/html": [
       "<style>\n",
       ".list-inline {list-style: none; margin:0; padding: 0}\n",
       ".list-inline>li {display: inline-block}\n",
       ".list-inline>li:not(:last-child)::after {content: \"\\00b7\"; padding: 0 .5ex}\n",
       "</style>\n",
       "<ol class=list-inline><li>'ride_id'</li><li>'rideable_type'</li><li>'started_at'</li><li>'ended_at'</li><li>'start_station_name'</li><li>'start_station_id'</li><li>'end_station_name'</li><li>'end_station_id'</li><li>'start_lat'</li><li>'start_lng'</li><li>'end_lat'</li><li>'end_lng'</li><li>'member_casual'</li></ol>\n"
      ],
      "text/latex": [
       "\\begin{enumerate*}\n",
       "\\item 'ride\\_id'\n",
       "\\item 'rideable\\_type'\n",
       "\\item 'started\\_at'\n",
       "\\item 'ended\\_at'\n",
       "\\item 'start\\_station\\_name'\n",
       "\\item 'start\\_station\\_id'\n",
       "\\item 'end\\_station\\_name'\n",
       "\\item 'end\\_station\\_id'\n",
       "\\item 'start\\_lat'\n",
       "\\item 'start\\_lng'\n",
       "\\item 'end\\_lat'\n",
       "\\item 'end\\_lng'\n",
       "\\item 'member\\_casual'\n",
       "\\end{enumerate*}\n"
      ],
      "text/markdown": [
       "1. 'ride_id'\n",
       "2. 'rideable_type'\n",
       "3. 'started_at'\n",
       "4. 'ended_at'\n",
       "5. 'start_station_name'\n",
       "6. 'start_station_id'\n",
       "7. 'end_station_name'\n",
       "8. 'end_station_id'\n",
       "9. 'start_lat'\n",
       "10. 'start_lng'\n",
       "11. 'end_lat'\n",
       "12. 'end_lng'\n",
       "13. 'member_casual'\n",
       "\n",
       "\n"
      ],
      "text/plain": [
       " [1] \"ride_id\"            \"rideable_type\"      \"started_at\"        \n",
       " [4] \"ended_at\"           \"start_station_name\" \"start_station_id\"  \n",
       " [7] \"end_station_name\"   \"end_station_id\"     \"start_lat\"         \n",
       "[10] \"start_lng\"          \"end_lat\"            \"end_lng\"           \n",
       "[13] \"member_casual\"     "
      ]
     },
     "metadata": {},
     "output_type": "display_data"
    },
    {
     "data": {
      "text/html": [
       "<style>\n",
       ".list-inline {list-style: none; margin:0; padding: 0}\n",
       ".list-inline>li {display: inline-block}\n",
       ".list-inline>li:not(:last-child)::after {content: \"\\00b7\"; padding: 0 .5ex}\n",
       "</style>\n",
       "<ol class=list-inline><li>'ride_id'</li><li>'rideable_type'</li><li>'started_at'</li><li>'ended_at'</li><li>'start_station_name'</li><li>'start_station_id'</li><li>'end_station_name'</li><li>'end_station_id'</li><li>'start_lat'</li><li>'start_lng'</li><li>'end_lat'</li><li>'end_lng'</li><li>'member_casual'</li></ol>\n"
      ],
      "text/latex": [
       "\\begin{enumerate*}\n",
       "\\item 'ride\\_id'\n",
       "\\item 'rideable\\_type'\n",
       "\\item 'started\\_at'\n",
       "\\item 'ended\\_at'\n",
       "\\item 'start\\_station\\_name'\n",
       "\\item 'start\\_station\\_id'\n",
       "\\item 'end\\_station\\_name'\n",
       "\\item 'end\\_station\\_id'\n",
       "\\item 'start\\_lat'\n",
       "\\item 'start\\_lng'\n",
       "\\item 'end\\_lat'\n",
       "\\item 'end\\_lng'\n",
       "\\item 'member\\_casual'\n",
       "\\end{enumerate*}\n"
      ],
      "text/markdown": [
       "1. 'ride_id'\n",
       "2. 'rideable_type'\n",
       "3. 'started_at'\n",
       "4. 'ended_at'\n",
       "5. 'start_station_name'\n",
       "6. 'start_station_id'\n",
       "7. 'end_station_name'\n",
       "8. 'end_station_id'\n",
       "9. 'start_lat'\n",
       "10. 'start_lng'\n",
       "11. 'end_lat'\n",
       "12. 'end_lng'\n",
       "13. 'member_casual'\n",
       "\n",
       "\n"
      ],
      "text/plain": [
       " [1] \"ride_id\"            \"rideable_type\"      \"started_at\"        \n",
       " [4] \"ended_at\"           \"start_station_name\" \"start_station_id\"  \n",
       " [7] \"end_station_name\"   \"end_station_id\"     \"start_lat\"         \n",
       "[10] \"start_lng\"          \"end_lat\"            \"end_lng\"           \n",
       "[13] \"member_casual\"     "
      ]
     },
     "metadata": {},
     "output_type": "display_data"
    },
    {
     "data": {
      "text/html": [
       "<style>\n",
       ".list-inline {list-style: none; margin:0; padding: 0}\n",
       ".list-inline>li {display: inline-block}\n",
       ".list-inline>li:not(:last-child)::after {content: \"\\00b7\"; padding: 0 .5ex}\n",
       "</style>\n",
       "<ol class=list-inline><li>'ride_id'</li><li>'rideable_type'</li><li>'started_at'</li><li>'ended_at'</li><li>'start_station_name'</li><li>'start_station_id'</li><li>'end_station_name'</li><li>'end_station_id'</li><li>'start_lat'</li><li>'start_lng'</li><li>'end_lat'</li><li>'end_lng'</li><li>'member_casual'</li></ol>\n"
      ],
      "text/latex": [
       "\\begin{enumerate*}\n",
       "\\item 'ride\\_id'\n",
       "\\item 'rideable\\_type'\n",
       "\\item 'started\\_at'\n",
       "\\item 'ended\\_at'\n",
       "\\item 'start\\_station\\_name'\n",
       "\\item 'start\\_station\\_id'\n",
       "\\item 'end\\_station\\_name'\n",
       "\\item 'end\\_station\\_id'\n",
       "\\item 'start\\_lat'\n",
       "\\item 'start\\_lng'\n",
       "\\item 'end\\_lat'\n",
       "\\item 'end\\_lng'\n",
       "\\item 'member\\_casual'\n",
       "\\end{enumerate*}\n"
      ],
      "text/markdown": [
       "1. 'ride_id'\n",
       "2. 'rideable_type'\n",
       "3. 'started_at'\n",
       "4. 'ended_at'\n",
       "5. 'start_station_name'\n",
       "6. 'start_station_id'\n",
       "7. 'end_station_name'\n",
       "8. 'end_station_id'\n",
       "9. 'start_lat'\n",
       "10. 'start_lng'\n",
       "11. 'end_lat'\n",
       "12. 'end_lng'\n",
       "13. 'member_casual'\n",
       "\n",
       "\n"
      ],
      "text/plain": [
       " [1] \"ride_id\"            \"rideable_type\"      \"started_at\"        \n",
       " [4] \"ended_at\"           \"start_station_name\" \"start_station_id\"  \n",
       " [7] \"end_station_name\"   \"end_station_id\"     \"start_lat\"         \n",
       "[10] \"start_lng\"          \"end_lat\"            \"end_lng\"           \n",
       "[13] \"member_casual\"     "
      ]
     },
     "metadata": {},
     "output_type": "display_data"
    },
    {
     "data": {
      "text/html": [
       "<style>\n",
       ".list-inline {list-style: none; margin:0; padding: 0}\n",
       ".list-inline>li {display: inline-block}\n",
       ".list-inline>li:not(:last-child)::after {content: \"\\00b7\"; padding: 0 .5ex}\n",
       "</style>\n",
       "<ol class=list-inline><li>'ride_id'</li><li>'rideable_type'</li><li>'started_at'</li><li>'ended_at'</li><li>'start_station_name'</li><li>'start_station_id'</li><li>'end_station_name'</li><li>'end_station_id'</li><li>'start_lat'</li><li>'start_lng'</li><li>'end_lat'</li><li>'end_lng'</li><li>'member_casual'</li></ol>\n"
      ],
      "text/latex": [
       "\\begin{enumerate*}\n",
       "\\item 'ride\\_id'\n",
       "\\item 'rideable\\_type'\n",
       "\\item 'started\\_at'\n",
       "\\item 'ended\\_at'\n",
       "\\item 'start\\_station\\_name'\n",
       "\\item 'start\\_station\\_id'\n",
       "\\item 'end\\_station\\_name'\n",
       "\\item 'end\\_station\\_id'\n",
       "\\item 'start\\_lat'\n",
       "\\item 'start\\_lng'\n",
       "\\item 'end\\_lat'\n",
       "\\item 'end\\_lng'\n",
       "\\item 'member\\_casual'\n",
       "\\end{enumerate*}\n"
      ],
      "text/markdown": [
       "1. 'ride_id'\n",
       "2. 'rideable_type'\n",
       "3. 'started_at'\n",
       "4. 'ended_at'\n",
       "5. 'start_station_name'\n",
       "6. 'start_station_id'\n",
       "7. 'end_station_name'\n",
       "8. 'end_station_id'\n",
       "9. 'start_lat'\n",
       "10. 'start_lng'\n",
       "11. 'end_lat'\n",
       "12. 'end_lng'\n",
       "13. 'member_casual'\n",
       "\n",
       "\n"
      ],
      "text/plain": [
       " [1] \"ride_id\"            \"rideable_type\"      \"started_at\"        \n",
       " [4] \"ended_at\"           \"start_station_name\" \"start_station_id\"  \n",
       " [7] \"end_station_name\"   \"end_station_id\"     \"start_lat\"         \n",
       "[10] \"start_lng\"          \"end_lat\"            \"end_lng\"           \n",
       "[13] \"member_casual\"     "
      ]
     },
     "metadata": {},
     "output_type": "display_data"
    },
    {
     "data": {
      "text/html": [
       "<style>\n",
       ".list-inline {list-style: none; margin:0; padding: 0}\n",
       ".list-inline>li {display: inline-block}\n",
       ".list-inline>li:not(:last-child)::after {content: \"\\00b7\"; padding: 0 .5ex}\n",
       "</style>\n",
       "<ol class=list-inline><li>'ride_id'</li><li>'rideable_type'</li><li>'started_at'</li><li>'ended_at'</li><li>'start_station_name'</li><li>'start_station_id'</li><li>'end_station_name'</li><li>'end_station_id'</li><li>'start_lat'</li><li>'start_lng'</li><li>'end_lat'</li><li>'end_lng'</li><li>'member_casual'</li></ol>\n"
      ],
      "text/latex": [
       "\\begin{enumerate*}\n",
       "\\item 'ride\\_id'\n",
       "\\item 'rideable\\_type'\n",
       "\\item 'started\\_at'\n",
       "\\item 'ended\\_at'\n",
       "\\item 'start\\_station\\_name'\n",
       "\\item 'start\\_station\\_id'\n",
       "\\item 'end\\_station\\_name'\n",
       "\\item 'end\\_station\\_id'\n",
       "\\item 'start\\_lat'\n",
       "\\item 'start\\_lng'\n",
       "\\item 'end\\_lat'\n",
       "\\item 'end\\_lng'\n",
       "\\item 'member\\_casual'\n",
       "\\end{enumerate*}\n"
      ],
      "text/markdown": [
       "1. 'ride_id'\n",
       "2. 'rideable_type'\n",
       "3. 'started_at'\n",
       "4. 'ended_at'\n",
       "5. 'start_station_name'\n",
       "6. 'start_station_id'\n",
       "7. 'end_station_name'\n",
       "8. 'end_station_id'\n",
       "9. 'start_lat'\n",
       "10. 'start_lng'\n",
       "11. 'end_lat'\n",
       "12. 'end_lng'\n",
       "13. 'member_casual'\n",
       "\n",
       "\n"
      ],
      "text/plain": [
       " [1] \"ride_id\"            \"rideable_type\"      \"started_at\"        \n",
       " [4] \"ended_at\"           \"start_station_name\" \"start_station_id\"  \n",
       " [7] \"end_station_name\"   \"end_station_id\"     \"start_lat\"         \n",
       "[10] \"start_lng\"          \"end_lat\"            \"end_lng\"           \n",
       "[13] \"member_casual\"     "
      ]
     },
     "metadata": {},
     "output_type": "display_data"
    },
    {
     "data": {
      "text/html": [
       "<style>\n",
       ".list-inline {list-style: none; margin:0; padding: 0}\n",
       ".list-inline>li {display: inline-block}\n",
       ".list-inline>li:not(:last-child)::after {content: \"\\00b7\"; padding: 0 .5ex}\n",
       "</style>\n",
       "<ol class=list-inline><li>'ride_id'</li><li>'rideable_type'</li><li>'started_at'</li><li>'ended_at'</li><li>'start_station_name'</li><li>'start_station_id'</li><li>'end_station_name'</li><li>'end_station_id'</li><li>'start_lat'</li><li>'start_lng'</li><li>'end_lat'</li><li>'end_lng'</li><li>'member_casual'</li></ol>\n"
      ],
      "text/latex": [
       "\\begin{enumerate*}\n",
       "\\item 'ride\\_id'\n",
       "\\item 'rideable\\_type'\n",
       "\\item 'started\\_at'\n",
       "\\item 'ended\\_at'\n",
       "\\item 'start\\_station\\_name'\n",
       "\\item 'start\\_station\\_id'\n",
       "\\item 'end\\_station\\_name'\n",
       "\\item 'end\\_station\\_id'\n",
       "\\item 'start\\_lat'\n",
       "\\item 'start\\_lng'\n",
       "\\item 'end\\_lat'\n",
       "\\item 'end\\_lng'\n",
       "\\item 'member\\_casual'\n",
       "\\end{enumerate*}\n"
      ],
      "text/markdown": [
       "1. 'ride_id'\n",
       "2. 'rideable_type'\n",
       "3. 'started_at'\n",
       "4. 'ended_at'\n",
       "5. 'start_station_name'\n",
       "6. 'start_station_id'\n",
       "7. 'end_station_name'\n",
       "8. 'end_station_id'\n",
       "9. 'start_lat'\n",
       "10. 'start_lng'\n",
       "11. 'end_lat'\n",
       "12. 'end_lng'\n",
       "13. 'member_casual'\n",
       "\n",
       "\n"
      ],
      "text/plain": [
       " [1] \"ride_id\"            \"rideable_type\"      \"started_at\"        \n",
       " [4] \"ended_at\"           \"start_station_name\" \"start_station_id\"  \n",
       " [7] \"end_station_name\"   \"end_station_id\"     \"start_lat\"         \n",
       "[10] \"start_lng\"          \"end_lat\"            \"end_lng\"           \n",
       "[13] \"member_casual\"     "
      ]
     },
     "metadata": {},
     "output_type": "display_data"
    },
    {
     "data": {
      "text/html": [
       "<style>\n",
       ".list-inline {list-style: none; margin:0; padding: 0}\n",
       ".list-inline>li {display: inline-block}\n",
       ".list-inline>li:not(:last-child)::after {content: \"\\00b7\"; padding: 0 .5ex}\n",
       "</style>\n",
       "<ol class=list-inline><li>'ride_id'</li><li>'rideable_type'</li><li>'started_at'</li><li>'ended_at'</li><li>'start_station_name'</li><li>'start_station_id'</li><li>'end_station_name'</li><li>'end_station_id'</li><li>'start_lat'</li><li>'start_lng'</li><li>'end_lat'</li><li>'end_lng'</li><li>'member_casual'</li></ol>\n"
      ],
      "text/latex": [
       "\\begin{enumerate*}\n",
       "\\item 'ride\\_id'\n",
       "\\item 'rideable\\_type'\n",
       "\\item 'started\\_at'\n",
       "\\item 'ended\\_at'\n",
       "\\item 'start\\_station\\_name'\n",
       "\\item 'start\\_station\\_id'\n",
       "\\item 'end\\_station\\_name'\n",
       "\\item 'end\\_station\\_id'\n",
       "\\item 'start\\_lat'\n",
       "\\item 'start\\_lng'\n",
       "\\item 'end\\_lat'\n",
       "\\item 'end\\_lng'\n",
       "\\item 'member\\_casual'\n",
       "\\end{enumerate*}\n"
      ],
      "text/markdown": [
       "1. 'ride_id'\n",
       "2. 'rideable_type'\n",
       "3. 'started_at'\n",
       "4. 'ended_at'\n",
       "5. 'start_station_name'\n",
       "6. 'start_station_id'\n",
       "7. 'end_station_name'\n",
       "8. 'end_station_id'\n",
       "9. 'start_lat'\n",
       "10. 'start_lng'\n",
       "11. 'end_lat'\n",
       "12. 'end_lng'\n",
       "13. 'member_casual'\n",
       "\n",
       "\n"
      ],
      "text/plain": [
       " [1] \"ride_id\"            \"rideable_type\"      \"started_at\"        \n",
       " [4] \"ended_at\"           \"start_station_name\" \"start_station_id\"  \n",
       " [7] \"end_station_name\"   \"end_station_id\"     \"start_lat\"         \n",
       "[10] \"start_lng\"          \"end_lat\"            \"end_lng\"           \n",
       "[13] \"member_casual\"     "
      ]
     },
     "metadata": {},
     "output_type": "display_data"
    },
    {
     "data": {
      "text/html": [
       "<style>\n",
       ".list-inline {list-style: none; margin:0; padding: 0}\n",
       ".list-inline>li {display: inline-block}\n",
       ".list-inline>li:not(:last-child)::after {content: \"\\00b7\"; padding: 0 .5ex}\n",
       "</style>\n",
       "<ol class=list-inline><li>'ride_id'</li><li>'rideable_type'</li><li>'started_at'</li><li>'ended_at'</li><li>'start_station_name'</li><li>'start_station_id'</li><li>'end_station_name'</li><li>'end_station_id'</li><li>'start_lat'</li><li>'start_lng'</li><li>'end_lat'</li><li>'end_lng'</li><li>'member_casual'</li></ol>\n"
      ],
      "text/latex": [
       "\\begin{enumerate*}\n",
       "\\item 'ride\\_id'\n",
       "\\item 'rideable\\_type'\n",
       "\\item 'started\\_at'\n",
       "\\item 'ended\\_at'\n",
       "\\item 'start\\_station\\_name'\n",
       "\\item 'start\\_station\\_id'\n",
       "\\item 'end\\_station\\_name'\n",
       "\\item 'end\\_station\\_id'\n",
       "\\item 'start\\_lat'\n",
       "\\item 'start\\_lng'\n",
       "\\item 'end\\_lat'\n",
       "\\item 'end\\_lng'\n",
       "\\item 'member\\_casual'\n",
       "\\end{enumerate*}\n"
      ],
      "text/markdown": [
       "1. 'ride_id'\n",
       "2. 'rideable_type'\n",
       "3. 'started_at'\n",
       "4. 'ended_at'\n",
       "5. 'start_station_name'\n",
       "6. 'start_station_id'\n",
       "7. 'end_station_name'\n",
       "8. 'end_station_id'\n",
       "9. 'start_lat'\n",
       "10. 'start_lng'\n",
       "11. 'end_lat'\n",
       "12. 'end_lng'\n",
       "13. 'member_casual'\n",
       "\n",
       "\n"
      ],
      "text/plain": [
       " [1] \"ride_id\"            \"rideable_type\"      \"started_at\"        \n",
       " [4] \"ended_at\"           \"start_station_name\" \"start_station_id\"  \n",
       " [7] \"end_station_name\"   \"end_station_id\"     \"start_lat\"         \n",
       "[10] \"start_lng\"          \"end_lat\"            \"end_lng\"           \n",
       "[13] \"member_casual\"     "
      ]
     },
     "metadata": {},
     "output_type": "display_data"
    }
   ],
   "source": [
    "## Compare column names each of the files for consistency\n",
    "colnames(jan22)\n",
    "colnames(feb22)\n",
    "colnames(mar22)\n",
    "colnames(apr22)\n",
    "colnames(may22)\n",
    "colnames(jun22)\n",
    "colnames(jul22)\n",
    "colnames(aug22)\n",
    "colnames(sep22)\n",
    "colnames(oct22)\n",
    "colnames(nov22)\n",
    "colnames(dec22)"
   ]
  },
  {
   "cell_type": "code",
   "execution_count": 4,
   "id": "80436a16",
   "metadata": {
    "_kg_hide-output": true,
    "execution": {
     "iopub.execute_input": "2023-03-10T01:03:31.561342Z",
     "iopub.status.busy": "2023-03-10T01:03:31.559334Z",
     "iopub.status.idle": "2023-03-10T01:03:32.528221Z",
     "shell.execute_reply": "2023-03-10T01:03:32.526519Z"
    },
    "papermill": {
     "duration": 0.98626,
     "end_time": "2023-03-10T01:03:32.530890",
     "exception": false,
     "start_time": "2023-03-10T01:03:31.544630",
     "status": "completed"
    },
    "tags": []
   },
   "outputs": [
    {
     "name": "stdout",
     "output_type": "stream",
     "text": [
      "spc_tbl_ [103,770 × 13] (S3: spec_tbl_df/tbl_df/tbl/data.frame)\n",
      " $ ride_id           : chr [1:103770] \"C2F7DD78E82EC875\" \"A6CF8980A652D272\" \"BD0F91DFF741C66D\" \"CBB80ED419105406\" ...\n",
      " $ rideable_type     : chr [1:103770] \"electric_bike\" \"electric_bike\" \"classic_bike\" \"classic_bike\" ...\n",
      " $ started_at        : POSIXct[1:103770], format: \"2022-01-13 11:59:47\" \"2022-01-10 08:41:56\" ...\n",
      " $ ended_at          : POSIXct[1:103770], format: \"2022-01-13 12:02:44\" \"2022-01-10 08:46:17\" ...\n",
      " $ start_station_name: chr [1:103770] \"Glenwood Ave & Touhy Ave\" \"Glenwood Ave & Touhy Ave\" \"Sheffield Ave & Fullerton Ave\" \"Clark St & Bryn Mawr Ave\" ...\n",
      " $ start_station_id  : chr [1:103770] \"525\" \"525\" \"TA1306000016\" \"KA1504000151\" ...\n",
      " $ end_station_name  : chr [1:103770] \"Clark St & Touhy Ave\" \"Clark St & Touhy Ave\" \"Greenview Ave & Fullerton Ave\" \"Paulina St & Montrose Ave\" ...\n",
      " $ end_station_id    : chr [1:103770] \"RP-007\" \"RP-007\" \"TA1307000001\" \"TA1309000021\" ...\n",
      " $ start_lat         : num [1:103770] 42 42 41.9 42 41.9 ...\n",
      " $ start_lng         : num [1:103770] -87.7 -87.7 -87.7 -87.7 -87.6 ...\n",
      " $ end_lat           : num [1:103770] 42 42 41.9 42 41.9 ...\n",
      " $ end_lng           : num [1:103770] -87.7 -87.7 -87.7 -87.7 -87.6 ...\n",
      " $ member_casual     : chr [1:103770] \"casual\" \"casual\" \"member\" \"casual\" ...\n",
      " - attr(*, \"spec\")=\n",
      "  .. cols(\n",
      "  ..   ride_id = \u001b[31mcol_character()\u001b[39m,\n",
      "  ..   rideable_type = \u001b[31mcol_character()\u001b[39m,\n",
      "  ..   started_at = \u001b[34mcol_datetime(format = \"\")\u001b[39m,\n",
      "  ..   ended_at = \u001b[34mcol_datetime(format = \"\")\u001b[39m,\n",
      "  ..   start_station_name = \u001b[31mcol_character()\u001b[39m,\n",
      "  ..   start_station_id = \u001b[31mcol_character()\u001b[39m,\n",
      "  ..   end_station_name = \u001b[31mcol_character()\u001b[39m,\n",
      "  ..   end_station_id = \u001b[31mcol_character()\u001b[39m,\n",
      "  ..   start_lat = \u001b[32mcol_double()\u001b[39m,\n",
      "  ..   start_lng = \u001b[32mcol_double()\u001b[39m,\n",
      "  ..   end_lat = \u001b[32mcol_double()\u001b[39m,\n",
      "  ..   end_lng = \u001b[32mcol_double()\u001b[39m,\n",
      "  ..   member_casual = \u001b[31mcol_character()\u001b[39m\n",
      "  .. )\n",
      " - attr(*, \"problems\")=<externalptr> \n",
      "spc_tbl_ [115,609 × 13] (S3: spec_tbl_df/tbl_df/tbl/data.frame)\n",
      " $ ride_id           : chr [1:115609] \"E1E065E7ED285C02\" \"1602DCDC5B30FFE3\" \"BE7DD2AF4B55C4AF\" \"A1789BDF844412BE\" ...\n",
      " $ rideable_type     : chr [1:115609] \"classic_bike\" \"classic_bike\" \"classic_bike\" \"classic_bike\" ...\n",
      " $ started_at        : POSIXct[1:115609], format: \"2022-02-19 18:08:41\" \"2022-02-20 17:41:30\" ...\n",
      " $ ended_at          : POSIXct[1:115609], format: \"2022-02-19 18:23:56\" \"2022-02-20 17:45:56\" ...\n",
      " $ start_station_name: chr [1:115609] \"State St & Randolph St\" \"Halsted St & Wrightwood Ave\" \"State St & Randolph St\" \"Southport Ave & Waveland Ave\" ...\n",
      " $ start_station_id  : chr [1:115609] \"TA1305000029\" \"TA1309000061\" \"TA1305000029\" \"13235\" ...\n",
      " $ end_station_name  : chr [1:115609] \"Clark St & Lincoln Ave\" \"Southport Ave & Wrightwood Ave\" \"Canal St & Adams St\" \"Broadway & Sheridan Rd\" ...\n",
      " $ end_station_id    : chr [1:115609] \"13179\" \"TA1307000113\" \"13011\" \"13323\" ...\n",
      " $ start_lat         : num [1:115609] 41.9 41.9 41.9 41.9 41.9 ...\n",
      " $ start_lng         : num [1:115609] -87.6 -87.6 -87.6 -87.7 -87.6 ...\n",
      " $ end_lat           : num [1:115609] 41.9 41.9 41.9 42 41.9 ...\n",
      " $ end_lng           : num [1:115609] -87.6 -87.7 -87.6 -87.6 -87.6 ...\n",
      " $ member_casual     : chr [1:115609] \"member\" \"member\" \"member\" \"member\" ...\n",
      " - attr(*, \"spec\")=\n",
      "  .. cols(\n",
      "  ..   ride_id = \u001b[31mcol_character()\u001b[39m,\n",
      "  ..   rideable_type = \u001b[31mcol_character()\u001b[39m,\n",
      "  ..   started_at = \u001b[34mcol_datetime(format = \"\")\u001b[39m,\n",
      "  ..   ended_at = \u001b[34mcol_datetime(format = \"\")\u001b[39m,\n",
      "  ..   start_station_name = \u001b[31mcol_character()\u001b[39m,\n",
      "  ..   start_station_id = \u001b[31mcol_character()\u001b[39m,\n",
      "  ..   end_station_name = \u001b[31mcol_character()\u001b[39m,\n",
      "  ..   end_station_id = \u001b[31mcol_character()\u001b[39m,\n",
      "  ..   start_lat = \u001b[32mcol_double()\u001b[39m,\n",
      "  ..   start_lng = \u001b[32mcol_double()\u001b[39m,\n",
      "  ..   end_lat = \u001b[32mcol_double()\u001b[39m,\n",
      "  ..   end_lng = \u001b[32mcol_double()\u001b[39m,\n",
      "  ..   member_casual = \u001b[31mcol_character()\u001b[39m\n",
      "  .. )\n",
      " - attr(*, \"problems\")=<externalptr> \n",
      "spc_tbl_ [284,042 × 13] (S3: spec_tbl_df/tbl_df/tbl/data.frame)\n",
      " $ ride_id           : chr [1:284042] \"47EC0A7F82E65D52\" \"8494861979B0F477\" \"EFE527AF80B66109\" \"9F446FD9DEE3F389\" ...\n",
      " $ rideable_type     : chr [1:284042] \"classic_bike\" \"electric_bike\" \"classic_bike\" \"classic_bike\" ...\n",
      " $ started_at        : POSIXct[1:284042], format: \"2022-03-21 13:45:01\" \"2022-03-16 09:37:16\" ...\n",
      " $ ended_at          : POSIXct[1:284042], format: \"2022-03-21 13:51:18\" \"2022-03-16 09:43:34\" ...\n",
      " $ start_station_name: chr [1:284042] \"Wabash Ave & Wacker Pl\" \"Michigan Ave & Oak St\" \"Broadway & Berwyn Ave\" \"Wabash Ave & Wacker Pl\" ...\n",
      " $ start_station_id  : chr [1:284042] \"TA1307000131\" \"13042\" \"13109\" \"TA1307000131\" ...\n",
      " $ end_station_name  : chr [1:284042] \"Kingsbury St & Kinzie St\" \"Orleans St & Chestnut St (NEXT Apts)\" \"Broadway & Ridge Ave\" \"Franklin St & Jackson Blvd\" ...\n",
      " $ end_station_id    : chr [1:284042] \"KA1503000043\" \"620\" \"15578\" \"TA1305000025\" ...\n",
      " $ start_lat         : num [1:284042] 41.9 41.9 42 41.9 41.9 ...\n",
      " $ start_lng         : num [1:284042] -87.6 -87.6 -87.7 -87.6 -87.6 ...\n",
      " $ end_lat           : num [1:284042] 41.9 41.9 42 41.9 41.9 ...\n",
      " $ end_lng           : num [1:284042] -87.6 -87.6 -87.7 -87.6 -87.7 ...\n",
      " $ member_casual     : chr [1:284042] \"member\" \"member\" \"member\" \"member\" ...\n",
      " - attr(*, \"spec\")=\n",
      "  .. cols(\n",
      "  ..   ride_id = \u001b[31mcol_character()\u001b[39m,\n",
      "  ..   rideable_type = \u001b[31mcol_character()\u001b[39m,\n",
      "  ..   started_at = \u001b[34mcol_datetime(format = \"\")\u001b[39m,\n",
      "  ..   ended_at = \u001b[34mcol_datetime(format = \"\")\u001b[39m,\n",
      "  ..   start_station_name = \u001b[31mcol_character()\u001b[39m,\n",
      "  ..   start_station_id = \u001b[31mcol_character()\u001b[39m,\n",
      "  ..   end_station_name = \u001b[31mcol_character()\u001b[39m,\n",
      "  ..   end_station_id = \u001b[31mcol_character()\u001b[39m,\n",
      "  ..   start_lat = \u001b[32mcol_double()\u001b[39m,\n",
      "  ..   start_lng = \u001b[32mcol_double()\u001b[39m,\n",
      "  ..   end_lat = \u001b[32mcol_double()\u001b[39m,\n",
      "  ..   end_lng = \u001b[32mcol_double()\u001b[39m,\n",
      "  ..   member_casual = \u001b[31mcol_character()\u001b[39m\n",
      "  .. )\n",
      " - attr(*, \"problems\")=<externalptr> \n",
      "spc_tbl_ [371,249 × 13] (S3: spec_tbl_df/tbl_df/tbl/data.frame)\n",
      " $ ride_id           : chr [1:371249] \"3564070EEFD12711\" \"0B820C7FCF22F489\" \"89EEEE32293F07FF\" \"84D4751AEB31888D\" ...\n",
      " $ rideable_type     : chr [1:371249] \"electric_bike\" \"classic_bike\" \"classic_bike\" \"classic_bike\" ...\n",
      " $ started_at        : POSIXct[1:371249], format: \"2022-04-06 17:42:48\" \"2022-04-24 19:23:07\" ...\n",
      " $ ended_at          : POSIXct[1:371249], format: \"2022-04-06 17:54:36\" \"2022-04-24 19:43:17\" ...\n",
      " $ start_station_name: chr [1:371249] \"Paulina St & Howard St\" \"Wentworth Ave & Cermak Rd\" \"Halsted St & Polk St\" \"Wentworth Ave & Cermak Rd\" ...\n",
      " $ start_station_id  : chr [1:371249] \"515\" \"13075\" \"TA1307000121\" \"13075\" ...\n",
      " $ end_station_name  : chr [1:371249] \"University Library (NU)\" \"Green St & Madison St\" \"Green St & Madison St\" \"Delano Ct & Roosevelt Rd\" ...\n",
      " $ end_station_id    : chr [1:371249] \"605\" \"TA1307000120\" \"TA1307000120\" \"KA1706005007\" ...\n",
      " $ start_lat         : num [1:371249] 42 41.9 41.9 41.9 41.9 ...\n",
      " $ start_lng         : num [1:371249] -87.7 -87.6 -87.6 -87.6 -87.6 ...\n",
      " $ end_lat           : num [1:371249] 42.1 41.9 41.9 41.9 41.9 ...\n",
      " $ end_lng           : num [1:371249] -87.7 -87.6 -87.6 -87.6 -87.6 ...\n",
      " $ member_casual     : chr [1:371249] \"member\" \"member\" \"member\" \"casual\" ...\n",
      " - attr(*, \"spec\")=\n",
      "  .. cols(\n",
      "  ..   ride_id = \u001b[31mcol_character()\u001b[39m,\n",
      "  ..   rideable_type = \u001b[31mcol_character()\u001b[39m,\n",
      "  ..   started_at = \u001b[34mcol_datetime(format = \"\")\u001b[39m,\n",
      "  ..   ended_at = \u001b[34mcol_datetime(format = \"\")\u001b[39m,\n",
      "  ..   start_station_name = \u001b[31mcol_character()\u001b[39m,\n",
      "  ..   start_station_id = \u001b[31mcol_character()\u001b[39m,\n",
      "  ..   end_station_name = \u001b[31mcol_character()\u001b[39m,\n",
      "  ..   end_station_id = \u001b[31mcol_character()\u001b[39m,\n",
      "  ..   start_lat = \u001b[32mcol_double()\u001b[39m,\n",
      "  ..   start_lng = \u001b[32mcol_double()\u001b[39m,\n",
      "  ..   end_lat = \u001b[32mcol_double()\u001b[39m,\n",
      "  ..   end_lng = \u001b[32mcol_double()\u001b[39m,\n",
      "  ..   member_casual = \u001b[31mcol_character()\u001b[39m\n",
      "  .. )\n",
      " - attr(*, \"problems\")=<externalptr> \n",
      "spc_tbl_ [634,858 × 13] (S3: spec_tbl_df/tbl_df/tbl/data.frame)\n",
      " $ ride_id           : chr [1:634858] \"EC2DE40644C6B0F4\" \"1C31AD03897EE385\" \"1542FBEC830415CF\" \"6FF59852924528F8\" ...\n",
      " $ rideable_type     : chr [1:634858] \"classic_bike\" \"classic_bike\" \"classic_bike\" \"classic_bike\" ...\n",
      " $ started_at        : POSIXct[1:634858], format: \"2022-05-23 23:06:58\" \"2022-05-11 08:53:28\" ...\n",
      " $ ended_at          : POSIXct[1:634858], format: \"2022-05-23 23:40:19\" \"2022-05-11 09:31:22\" ...\n",
      " $ start_station_name: chr [1:634858] \"Wabash Ave & Grand Ave\" \"DuSable Lake Shore Dr & Monroe St\" \"Clinton St & Madison St\" \"Clinton St & Madison St\" ...\n",
      " $ start_station_id  : chr [1:634858] \"TA1307000117\" \"13300\" \"TA1305000032\" \"TA1305000032\" ...\n",
      " $ end_station_name  : chr [1:634858] \"Halsted St & Roscoe St\" \"Field Blvd & South Water St\" \"Wood St & Milwaukee Ave\" \"Clark St & Randolph St\" ...\n",
      " $ end_station_id    : chr [1:634858] \"TA1309000025\" \"15534\" \"13221\" \"TA1305000030\" ...\n",
      " $ start_lat         : num [1:634858] 41.9 41.9 41.9 41.9 41.9 ...\n",
      " $ start_lng         : num [1:634858] -87.6 -87.6 -87.6 -87.6 -87.6 ...\n",
      " $ end_lat           : num [1:634858] 41.9 41.9 41.9 41.9 41.9 ...\n",
      " $ end_lng           : num [1:634858] -87.6 -87.6 -87.7 -87.6 -87.7 ...\n",
      " $ member_casual     : chr [1:634858] \"member\" \"member\" \"member\" \"member\" ...\n",
      " - attr(*, \"spec\")=\n",
      "  .. cols(\n",
      "  ..   ride_id = \u001b[31mcol_character()\u001b[39m,\n",
      "  ..   rideable_type = \u001b[31mcol_character()\u001b[39m,\n",
      "  ..   started_at = \u001b[34mcol_datetime(format = \"\")\u001b[39m,\n",
      "  ..   ended_at = \u001b[34mcol_datetime(format = \"\")\u001b[39m,\n",
      "  ..   start_station_name = \u001b[31mcol_character()\u001b[39m,\n",
      "  ..   start_station_id = \u001b[31mcol_character()\u001b[39m,\n",
      "  ..   end_station_name = \u001b[31mcol_character()\u001b[39m,\n",
      "  ..   end_station_id = \u001b[31mcol_character()\u001b[39m,\n",
      "  ..   start_lat = \u001b[32mcol_double()\u001b[39m,\n",
      "  ..   start_lng = \u001b[32mcol_double()\u001b[39m,\n",
      "  ..   end_lat = \u001b[32mcol_double()\u001b[39m,\n",
      "  ..   end_lng = \u001b[32mcol_double()\u001b[39m,\n",
      "  ..   member_casual = \u001b[31mcol_character()\u001b[39m\n",
      "  .. )\n",
      " - attr(*, \"problems\")=<externalptr> \n",
      "spc_tbl_ [769,204 × 13] (S3: spec_tbl_df/tbl_df/tbl/data.frame)\n",
      " $ ride_id           : chr [1:769204] \"600CFD130D0FD2A4\" \"F5E6B5C1682C6464\" \"B6EB6D27BAD771D2\" \"C9C320375DE1D5C6\" ...\n",
      " $ rideable_type     : chr [1:769204] \"electric_bike\" \"electric_bike\" \"electric_bike\" \"electric_bike\" ...\n",
      " $ started_at        : POSIXct[1:769204], format: \"2022-06-30 17:27:53\" \"2022-06-30 18:39:52\" ...\n",
      " $ ended_at          : POSIXct[1:769204], format: \"2022-06-30 17:35:15\" \"2022-06-30 18:47:28\" ...\n",
      " $ start_station_name: chr [1:769204] NA NA NA NA ...\n",
      " $ start_station_id  : chr [1:769204] NA NA NA NA ...\n",
      " $ end_station_name  : chr [1:769204] NA NA NA NA ...\n",
      " $ end_station_id    : chr [1:769204] NA NA NA NA ...\n",
      " $ start_lat         : num [1:769204] 41.9 41.9 41.9 41.8 41.9 ...\n",
      " $ start_lng         : num [1:769204] -87.6 -87.6 -87.7 -87.7 -87.6 ...\n",
      " $ end_lat           : num [1:769204] 41.9 41.9 41.9 41.8 41.9 ...\n",
      " $ end_lng           : num [1:769204] -87.6 -87.6 -87.6 -87.7 -87.6 ...\n",
      " $ member_casual     : chr [1:769204] \"casual\" \"casual\" \"casual\" \"casual\" ...\n",
      " - attr(*, \"spec\")=\n",
      "  .. cols(\n",
      "  ..   ride_id = \u001b[31mcol_character()\u001b[39m,\n",
      "  ..   rideable_type = \u001b[31mcol_character()\u001b[39m,\n",
      "  ..   started_at = \u001b[34mcol_datetime(format = \"\")\u001b[39m,\n",
      "  ..   ended_at = \u001b[34mcol_datetime(format = \"\")\u001b[39m,\n",
      "  ..   start_station_name = \u001b[31mcol_character()\u001b[39m,\n",
      "  ..   start_station_id = \u001b[31mcol_character()\u001b[39m,\n",
      "  ..   end_station_name = \u001b[31mcol_character()\u001b[39m,\n",
      "  ..   end_station_id = \u001b[31mcol_character()\u001b[39m,\n",
      "  ..   start_lat = \u001b[32mcol_double()\u001b[39m,\n",
      "  ..   start_lng = \u001b[32mcol_double()\u001b[39m,\n",
      "  ..   end_lat = \u001b[32mcol_double()\u001b[39m,\n",
      "  ..   end_lng = \u001b[32mcol_double()\u001b[39m,\n",
      "  ..   member_casual = \u001b[31mcol_character()\u001b[39m\n",
      "  .. )\n",
      " - attr(*, \"problems\")=<externalptr> \n",
      "spc_tbl_ [823,488 × 13] (S3: spec_tbl_df/tbl_df/tbl/data.frame)\n",
      " $ ride_id           : chr [1:823488] \"954144C2F67B1932\" \"292E027607D218B6\" \"57765852588AD6E0\" \"B5B6BE44314590E6\" ...\n",
      " $ rideable_type     : chr [1:823488] \"classic_bike\" \"classic_bike\" \"classic_bike\" \"classic_bike\" ...\n",
      " $ started_at        : POSIXct[1:823488], format: \"2022-07-05 08:12:47\" \"2022-07-26 12:53:38\" ...\n",
      " $ ended_at          : POSIXct[1:823488], format: \"2022-07-05 08:24:32\" \"2022-07-26 12:55:31\" ...\n",
      " $ start_station_name: chr [1:823488] \"Ashland Ave & Blackhawk St\" \"Buckingham Fountain (Temp)\" \"Buckingham Fountain (Temp)\" \"Buckingham Fountain (Temp)\" ...\n",
      " $ start_station_id  : chr [1:823488] \"13224\" \"15541\" \"15541\" \"15541\" ...\n",
      " $ end_station_name  : chr [1:823488] \"Kingsbury St & Kinzie St\" \"Michigan Ave & 8th St\" \"Michigan Ave & 8th St\" \"Woodlawn Ave & 55th St\" ...\n",
      " $ end_station_id    : chr [1:823488] \"KA1503000043\" \"623\" \"623\" \"TA1307000164\" ...\n",
      " $ start_lat         : num [1:823488] 41.9 41.9 41.9 41.9 41.9 ...\n",
      " $ start_lng         : num [1:823488] -87.7 -87.6 -87.6 -87.6 -87.6 ...\n",
      " $ end_lat           : num [1:823488] 41.9 41.9 41.9 41.8 41.9 ...\n",
      " $ end_lng           : num [1:823488] -87.6 -87.6 -87.6 -87.6 -87.7 ...\n",
      " $ member_casual     : chr [1:823488] \"member\" \"casual\" \"casual\" \"casual\" ...\n",
      " - attr(*, \"spec\")=\n",
      "  .. cols(\n",
      "  ..   ride_id = \u001b[31mcol_character()\u001b[39m,\n",
      "  ..   rideable_type = \u001b[31mcol_character()\u001b[39m,\n",
      "  ..   started_at = \u001b[34mcol_datetime(format = \"\")\u001b[39m,\n",
      "  ..   ended_at = \u001b[34mcol_datetime(format = \"\")\u001b[39m,\n",
      "  ..   start_station_name = \u001b[31mcol_character()\u001b[39m,\n",
      "  ..   start_station_id = \u001b[31mcol_character()\u001b[39m,\n",
      "  ..   end_station_name = \u001b[31mcol_character()\u001b[39m,\n",
      "  ..   end_station_id = \u001b[31mcol_character()\u001b[39m,\n",
      "  ..   start_lat = \u001b[32mcol_double()\u001b[39m,\n",
      "  ..   start_lng = \u001b[32mcol_double()\u001b[39m,\n",
      "  ..   end_lat = \u001b[32mcol_double()\u001b[39m,\n",
      "  ..   end_lng = \u001b[32mcol_double()\u001b[39m,\n",
      "  ..   member_casual = \u001b[31mcol_character()\u001b[39m\n",
      "  .. )\n",
      " - attr(*, \"problems\")=<externalptr> \n",
      "spc_tbl_ [785,932 × 13] (S3: spec_tbl_df/tbl_df/tbl/data.frame)\n",
      " $ ride_id           : chr [1:785932] \"550CF7EFEAE0C618\" \"DAD198F405F9C5F5\" \"E6F2BC47B65CB7FD\" \"F597830181C2E13C\" ...\n",
      " $ rideable_type     : chr [1:785932] \"electric_bike\" \"electric_bike\" \"electric_bike\" \"electric_bike\" ...\n",
      " $ started_at        : POSIXct[1:785932], format: \"2022-08-07 21:34:15\" \"2022-08-08 14:39:21\" ...\n",
      " $ ended_at          : POSIXct[1:785932], format: \"2022-08-07 21:41:46\" \"2022-08-08 14:53:23\" ...\n",
      " $ start_station_name: chr [1:785932] NA NA NA NA ...\n",
      " $ start_station_id  : chr [1:785932] NA NA NA NA ...\n",
      " $ end_station_name  : chr [1:785932] NA NA NA NA ...\n",
      " $ end_station_id    : chr [1:785932] NA NA NA NA ...\n",
      " $ start_lat         : num [1:785932] 41.9 41.9 42 41.9 41.9 ...\n",
      " $ start_lng         : num [1:785932] -87.7 -87.6 -87.7 -87.7 -87.7 ...\n",
      " $ end_lat           : num [1:785932] 41.9 41.9 42 42 41.8 ...\n",
      " $ end_lng           : num [1:785932] -87.7 -87.6 -87.7 -87.7 -87.7 ...\n",
      " $ member_casual     : chr [1:785932] \"casual\" \"casual\" \"casual\" \"casual\" ...\n",
      " - attr(*, \"spec\")=\n",
      "  .. cols(\n",
      "  ..   ride_id = \u001b[31mcol_character()\u001b[39m,\n",
      "  ..   rideable_type = \u001b[31mcol_character()\u001b[39m,\n",
      "  ..   started_at = \u001b[34mcol_datetime(format = \"\")\u001b[39m,\n",
      "  ..   ended_at = \u001b[34mcol_datetime(format = \"\")\u001b[39m,\n",
      "  ..   start_station_name = \u001b[31mcol_character()\u001b[39m,\n",
      "  ..   start_station_id = \u001b[31mcol_character()\u001b[39m,\n",
      "  ..   end_station_name = \u001b[31mcol_character()\u001b[39m,\n",
      "  ..   end_station_id = \u001b[31mcol_character()\u001b[39m,\n",
      "  ..   start_lat = \u001b[32mcol_double()\u001b[39m,\n",
      "  ..   start_lng = \u001b[32mcol_double()\u001b[39m,\n",
      "  ..   end_lat = \u001b[32mcol_double()\u001b[39m,\n",
      "  ..   end_lng = \u001b[32mcol_double()\u001b[39m,\n",
      "  ..   member_casual = \u001b[31mcol_character()\u001b[39m\n",
      "  .. )\n",
      " - attr(*, \"problems\")=<externalptr> \n",
      "spc_tbl_ [701,339 × 13] (S3: spec_tbl_df/tbl_df/tbl/data.frame)\n",
      " $ ride_id           : chr [1:701339] \"5156990AC19CA285\" \"E12D4A16BF51C274\" \"A02B53CD7DB72DD7\" \"C82E05FEE872DF11\" ...\n",
      " $ rideable_type     : chr [1:701339] \"electric_bike\" \"electric_bike\" \"electric_bike\" \"electric_bike\" ...\n",
      " $ started_at        : POSIXct[1:701339], format: \"2022-09-01 08:36:22\" \"2022-09-01 17:11:29\" ...\n",
      " $ ended_at          : POSIXct[1:701339], format: \"2022-09-01 08:39:05\" \"2022-09-01 17:14:45\" ...\n",
      " $ start_station_name: chr [1:701339] NA NA NA NA ...\n",
      " $ start_station_id  : chr [1:701339] NA NA NA NA ...\n",
      " $ end_station_name  : chr [1:701339] \"California Ave & Milwaukee Ave\" NA NA NA ...\n",
      " $ end_station_id    : chr [1:701339] \"13084\" NA NA NA ...\n",
      " $ start_lat         : num [1:701339] 41.9 41.9 41.9 41.9 41.9 ...\n",
      " $ start_lng         : num [1:701339] -87.7 -87.6 -87.6 -87.7 -87.7 ...\n",
      " $ end_lat           : num [1:701339] 41.9 41.9 41.9 41.9 41.9 ...\n",
      " $ end_lng           : num [1:701339] -87.7 -87.6 -87.6 -87.7 -87.7 ...\n",
      " $ member_casual     : chr [1:701339] \"casual\" \"casual\" \"casual\" \"casual\" ...\n",
      " - attr(*, \"spec\")=\n",
      "  .. cols(\n",
      "  ..   ride_id = \u001b[31mcol_character()\u001b[39m,\n",
      "  ..   rideable_type = \u001b[31mcol_character()\u001b[39m,\n",
      "  ..   started_at = \u001b[34mcol_datetime(format = \"\")\u001b[39m,\n",
      "  ..   ended_at = \u001b[34mcol_datetime(format = \"\")\u001b[39m,\n",
      "  ..   start_station_name = \u001b[31mcol_character()\u001b[39m,\n",
      "  ..   start_station_id = \u001b[31mcol_character()\u001b[39m,\n",
      "  ..   end_station_name = \u001b[31mcol_character()\u001b[39m,\n",
      "  ..   end_station_id = \u001b[31mcol_character()\u001b[39m,\n",
      "  ..   start_lat = \u001b[32mcol_double()\u001b[39m,\n",
      "  ..   start_lng = \u001b[32mcol_double()\u001b[39m,\n",
      "  ..   end_lat = \u001b[32mcol_double()\u001b[39m,\n",
      "  ..   end_lng = \u001b[32mcol_double()\u001b[39m,\n",
      "  ..   member_casual = \u001b[31mcol_character()\u001b[39m\n",
      "  .. )\n",
      " - attr(*, \"problems\")=<externalptr> \n",
      "spc_tbl_ [558,685 × 13] (S3: spec_tbl_df/tbl_df/tbl/data.frame)\n",
      " $ ride_id           : chr [1:558685] \"A50255C1E17942AB\" \"DB692A70BD2DD4E3\" \"3C02727AAF60F873\" \"47E653FDC2D99236\" ...\n",
      " $ rideable_type     : chr [1:558685] \"classic_bike\" \"electric_bike\" \"electric_bike\" \"electric_bike\" ...\n",
      " $ started_at        : POSIXct[1:558685], format: \"2022-10-14 17:13:30\" \"2022-10-01 16:29:26\" ...\n",
      " $ ended_at          : POSIXct[1:558685], format: \"2022-10-14 17:19:39\" \"2022-10-01 16:49:06\" ...\n",
      " $ start_station_name: chr [1:558685] \"Noble St & Milwaukee Ave\" \"Damen Ave & Charleston St\" \"Hoyne Ave & Balmoral Ave\" \"Rush St & Cedar St\" ...\n",
      " $ start_station_id  : chr [1:558685] \"13290\" \"13288\" \"655\" \"KA1504000133\" ...\n",
      " $ end_station_name  : chr [1:558685] \"Larrabee St & Division St\" \"Damen Ave & Cullerton St\" \"Western Ave & Leland Ave\" \"Orleans St & Chestnut St (NEXT Apts)\" ...\n",
      " $ end_station_id    : chr [1:558685] \"KA1504000079\" \"13089\" \"TA1307000140\" \"620\" ...\n",
      " $ start_lat         : num [1:558685] 41.9 41.9 42 41.9 41.9 ...\n",
      " $ start_lng         : num [1:558685] -87.7 -87.7 -87.7 -87.6 -87.6 ...\n",
      " $ end_lat           : num [1:558685] 41.9 41.9 42 41.9 41.9 ...\n",
      " $ end_lng           : num [1:558685] -87.6 -87.7 -87.7 -87.6 -87.6 ...\n",
      " $ member_casual     : chr [1:558685] \"member\" \"casual\" \"member\" \"member\" ...\n",
      " - attr(*, \"spec\")=\n",
      "  .. cols(\n",
      "  ..   ride_id = \u001b[31mcol_character()\u001b[39m,\n",
      "  ..   rideable_type = \u001b[31mcol_character()\u001b[39m,\n",
      "  ..   started_at = \u001b[34mcol_datetime(format = \"\")\u001b[39m,\n",
      "  ..   ended_at = \u001b[34mcol_datetime(format = \"\")\u001b[39m,\n",
      "  ..   start_station_name = \u001b[31mcol_character()\u001b[39m,\n",
      "  ..   start_station_id = \u001b[31mcol_character()\u001b[39m,\n",
      "  ..   end_station_name = \u001b[31mcol_character()\u001b[39m,\n",
      "  ..   end_station_id = \u001b[31mcol_character()\u001b[39m,\n",
      "  ..   start_lat = \u001b[32mcol_double()\u001b[39m,\n",
      "  ..   start_lng = \u001b[32mcol_double()\u001b[39m,\n",
      "  ..   end_lat = \u001b[32mcol_double()\u001b[39m,\n",
      "  ..   end_lng = \u001b[32mcol_double()\u001b[39m,\n",
      "  ..   member_casual = \u001b[31mcol_character()\u001b[39m\n",
      "  .. )\n",
      " - attr(*, \"problems\")=<externalptr> \n",
      "spc_tbl_ [337,735 × 13] (S3: spec_tbl_df/tbl_df/tbl/data.frame)\n",
      " $ ride_id           : chr [1:337735] \"BCC66FC6FAB27CC7\" \"772AB67E902C180F\" \"585EAD07FDEC0152\" \"91C4E7ED3C262FF9\" ...\n",
      " $ rideable_type     : chr [1:337735] \"electric_bike\" \"classic_bike\" \"classic_bike\" \"classic_bike\" ...\n",
      " $ started_at        : POSIXct[1:337735], format: \"2022-11-10 06:21:55\" \"2022-11-04 07:31:55\" ...\n",
      " $ ended_at          : POSIXct[1:337735], format: \"2022-11-10 06:31:27\" \"2022-11-04 07:46:25\" ...\n",
      " $ start_station_name: chr [1:337735] \"Canal St & Adams St\" \"Canal St & Adams St\" \"Indiana Ave & Roosevelt Rd\" \"Indiana Ave & Roosevelt Rd\" ...\n",
      " $ start_station_id  : chr [1:337735] \"13011\" \"13011\" \"SL-005\" \"SL-005\" ...\n",
      " $ end_station_name  : chr [1:337735] \"St. Clair St & Erie St\" \"St. Clair St & Erie St\" \"St. Clair St & Erie St\" \"St. Clair St & Erie St\" ...\n",
      " $ end_station_id    : chr [1:337735] \"13016\" \"13016\" \"13016\" \"13016\" ...\n",
      " $ start_lat         : num [1:337735] 41.9 41.9 41.9 41.9 41.9 ...\n",
      " $ start_lng         : num [1:337735] -87.6 -87.6 -87.6 -87.6 -87.6 ...\n",
      " $ end_lat           : num [1:337735] 41.9 41.9 41.9 41.9 41.9 ...\n",
      " $ end_lng           : num [1:337735] -87.6 -87.6 -87.6 -87.6 -87.6 ...\n",
      " $ member_casual     : chr [1:337735] \"member\" \"member\" \"member\" \"member\" ...\n",
      " - attr(*, \"spec\")=\n",
      "  .. cols(\n",
      "  ..   ride_id = \u001b[31mcol_character()\u001b[39m,\n",
      "  ..   rideable_type = \u001b[31mcol_character()\u001b[39m,\n",
      "  ..   started_at = \u001b[34mcol_datetime(format = \"\")\u001b[39m,\n",
      "  ..   ended_at = \u001b[34mcol_datetime(format = \"\")\u001b[39m,\n",
      "  ..   start_station_name = \u001b[31mcol_character()\u001b[39m,\n",
      "  ..   start_station_id = \u001b[31mcol_character()\u001b[39m,\n",
      "  ..   end_station_name = \u001b[31mcol_character()\u001b[39m,\n",
      "  ..   end_station_id = \u001b[31mcol_character()\u001b[39m,\n",
      "  ..   start_lat = \u001b[32mcol_double()\u001b[39m,\n",
      "  ..   start_lng = \u001b[32mcol_double()\u001b[39m,\n",
      "  ..   end_lat = \u001b[32mcol_double()\u001b[39m,\n",
      "  ..   end_lng = \u001b[32mcol_double()\u001b[39m,\n",
      "  ..   member_casual = \u001b[31mcol_character()\u001b[39m\n",
      "  .. )\n",
      " - attr(*, \"problems\")=<externalptr> \n",
      "spc_tbl_ [181,806 × 13] (S3: spec_tbl_df/tbl_df/tbl/data.frame)\n",
      " $ ride_id           : chr [1:181806] \"65DBD2F447EC51C2\" \"0C201AA7EA0EA1AD\" \"E0B148CCB358A49D\" \"54C5775D2B7C9188\" ...\n",
      " $ rideable_type     : chr [1:181806] \"electric_bike\" \"classic_bike\" \"electric_bike\" \"classic_bike\" ...\n",
      " $ started_at        : POSIXct[1:181806], format: \"2022-12-05 10:47:18\" \"2022-12-18 06:42:33\" ...\n",
      " $ ended_at          : POSIXct[1:181806], format: \"2022-12-05 10:56:34\" \"2022-12-18 07:08:44\" ...\n",
      " $ start_station_name: chr [1:181806] \"Clifton Ave & Armitage Ave\" \"Broadway & Belmont Ave\" \"Sangamon St & Lake St\" \"Shields Ave & 31st St\" ...\n",
      " $ start_station_id  : chr [1:181806] \"TA1307000163\" \"13277\" \"TA1306000015\" \"KA1503000038\" ...\n",
      " $ end_station_name  : chr [1:181806] \"Sedgwick St & Webster Ave\" \"Sedgwick St & Webster Ave\" \"St. Clair St & Erie St\" \"Damen Ave & Madison St\" ...\n",
      " $ end_station_id    : chr [1:181806] \"13191\" \"13191\" \"13016\" \"13134\" ...\n",
      " $ start_lat         : num [1:181806] 41.9 41.9 41.9 41.8 41.9 ...\n",
      " $ start_lng         : num [1:181806] -87.7 -87.6 -87.7 -87.6 -87.7 ...\n",
      " $ end_lat           : num [1:181806] 41.9 41.9 41.9 41.9 41.9 ...\n",
      " $ end_lng           : num [1:181806] -87.6 -87.6 -87.6 -87.7 -87.7 ...\n",
      " $ member_casual     : chr [1:181806] \"member\" \"casual\" \"member\" \"member\" ...\n",
      " - attr(*, \"spec\")=\n",
      "  .. cols(\n",
      "  ..   ride_id = \u001b[31mcol_character()\u001b[39m,\n",
      "  ..   rideable_type = \u001b[31mcol_character()\u001b[39m,\n",
      "  ..   started_at = \u001b[34mcol_datetime(format = \"\")\u001b[39m,\n",
      "  ..   ended_at = \u001b[34mcol_datetime(format = \"\")\u001b[39m,\n",
      "  ..   start_station_name = \u001b[31mcol_character()\u001b[39m,\n",
      "  ..   start_station_id = \u001b[31mcol_character()\u001b[39m,\n",
      "  ..   end_station_name = \u001b[31mcol_character()\u001b[39m,\n",
      "  ..   end_station_id = \u001b[31mcol_character()\u001b[39m,\n",
      "  ..   start_lat = \u001b[32mcol_double()\u001b[39m,\n",
      "  ..   start_lng = \u001b[32mcol_double()\u001b[39m,\n",
      "  ..   end_lat = \u001b[32mcol_double()\u001b[39m,\n",
      "  ..   end_lng = \u001b[32mcol_double()\u001b[39m,\n",
      "  ..   member_casual = \u001b[31mcol_character()\u001b[39m\n",
      "  .. )\n",
      " - attr(*, \"problems\")=<externalptr> \n"
     ]
    }
   ],
   "source": [
    "## Checking data frames structures and data type (dbl, chr, date)\n",
    "str(jan22)\n",
    "str(feb22)\n",
    "str(mar22)\n",
    "str(apr22)\n",
    "str(may22)\n",
    "str(jun22)\n",
    "str(jul22)\n",
    "str(aug22)\n",
    "str(sep22)\n",
    "str(oct22)\n",
    "str(nov22)\n",
    "str(dec22)"
   ]
  },
  {
   "cell_type": "code",
   "execution_count": 5,
   "id": "6084b743",
   "metadata": {
    "_kg_hide-output": true,
    "execution": {
     "iopub.execute_input": "2023-03-10T01:03:32.563488Z",
     "iopub.status.busy": "2023-03-10T01:03:32.561902Z",
     "iopub.status.idle": "2023-03-10T01:03:38.923950Z",
     "shell.execute_reply": "2023-03-10T01:03:38.922082Z"
    },
    "papermill": {
     "duration": 6.381014,
     "end_time": "2023-03-10T01:03:38.927137",
     "exception": false,
     "start_time": "2023-03-10T01:03:32.546123",
     "status": "completed"
    },
    "tags": []
   },
   "outputs": [],
   "source": [
    "## Stack individual data frames into one big data frame\n",
    "tripdata <- bind_rows(jan22, feb22, mar22, apr22, may22, jun22, jul22, aug22, sep22, oct22, nov22, dec22)"
   ]
  },
  {
   "cell_type": "markdown",
   "id": "a8f3c657",
   "metadata": {
    "papermill": {
     "duration": 0.013819,
     "end_time": "2023-03-10T01:03:38.955906",
     "exception": false,
     "start_time": "2023-03-10T01:03:38.942087",
     "status": "completed"
    },
    "tags": []
   },
   "source": [
    "# 3. Process\n",
    "Cleaning and Preparation of data for analysis.\n",
    "\n",
    "##### Key Tasks\n",
    "- [x] Check the data for errors.\n",
    "- [x] Choose your tools.\n",
    "- [x] Transform the data so you can work with it effectively.\n",
    "- [x] Document the cleaning process.\n",
    "\n",
    "##### Deliverable\n",
    "- [x] Documentation of any cleaning or manipulation of data"
   ]
  },
  {
   "cell_type": "code",
   "execution_count": 6,
   "id": "5ece8e51",
   "metadata": {
    "_kg_hide-output": true,
    "execution": {
     "iopub.execute_input": "2023-03-10T01:03:38.986873Z",
     "iopub.status.busy": "2023-03-10T01:03:38.985282Z",
     "iopub.status.idle": "2023-03-10T01:03:43.643957Z",
     "shell.execute_reply": "2023-03-10T01:03:43.642205Z"
    },
    "papermill": {
     "duration": 4.677165,
     "end_time": "2023-03-10T01:03:43.646866",
     "exception": false,
     "start_time": "2023-03-10T01:03:38.969701",
     "status": "completed"
    },
    "tags": []
   },
   "outputs": [
    {
     "data": {
      "text/html": [
       "<style>\n",
       ".list-inline {list-style: none; margin:0; padding: 0}\n",
       ".list-inline>li {display: inline-block}\n",
       ".list-inline>li:not(:last-child)::after {content: \"\\00b7\"; padding: 0 .5ex}\n",
       "</style>\n",
       "<ol class=list-inline><li>'ride_id'</li><li>'rideable_type'</li><li>'started_at'</li><li>'ended_at'</li><li>'start_station_name'</li><li>'start_station_id'</li><li>'end_station_name'</li><li>'end_station_id'</li><li>'start_lat'</li><li>'start_lng'</li><li>'end_lat'</li><li>'end_lng'</li><li>'member_casual'</li></ol>\n"
      ],
      "text/latex": [
       "\\begin{enumerate*}\n",
       "\\item 'ride\\_id'\n",
       "\\item 'rideable\\_type'\n",
       "\\item 'started\\_at'\n",
       "\\item 'ended\\_at'\n",
       "\\item 'start\\_station\\_name'\n",
       "\\item 'start\\_station\\_id'\n",
       "\\item 'end\\_station\\_name'\n",
       "\\item 'end\\_station\\_id'\n",
       "\\item 'start\\_lat'\n",
       "\\item 'start\\_lng'\n",
       "\\item 'end\\_lat'\n",
       "\\item 'end\\_lng'\n",
       "\\item 'member\\_casual'\n",
       "\\end{enumerate*}\n"
      ],
      "text/markdown": [
       "1. 'ride_id'\n",
       "2. 'rideable_type'\n",
       "3. 'started_at'\n",
       "4. 'ended_at'\n",
       "5. 'start_station_name'\n",
       "6. 'start_station_id'\n",
       "7. 'end_station_name'\n",
       "8. 'end_station_id'\n",
       "9. 'start_lat'\n",
       "10. 'start_lng'\n",
       "11. 'end_lat'\n",
       "12. 'end_lng'\n",
       "13. 'member_casual'\n",
       "\n",
       "\n"
      ],
      "text/plain": [
       " [1] \"ride_id\"            \"rideable_type\"      \"started_at\"        \n",
       " [4] \"ended_at\"           \"start_station_name\" \"start_station_id\"  \n",
       " [7] \"end_station_name\"   \"end_station_id\"     \"start_lat\"         \n",
       "[10] \"start_lng\"          \"end_lat\"            \"end_lng\"           \n",
       "[13] \"member_casual\"     "
      ]
     },
     "metadata": {},
     "output_type": "display_data"
    },
    {
     "data": {
      "text/html": [
       "<table class=\"dataframe\">\n",
       "<caption>A tibble: 6 × 13</caption>\n",
       "<thead>\n",
       "\t<tr><th scope=col>ride_id</th><th scope=col>rideable_type</th><th scope=col>started_at</th><th scope=col>ended_at</th><th scope=col>start_station_name</th><th scope=col>start_station_id</th><th scope=col>end_station_name</th><th scope=col>end_station_id</th><th scope=col>start_lat</th><th scope=col>start_lng</th><th scope=col>end_lat</th><th scope=col>end_lng</th><th scope=col>member_casual</th></tr>\n",
       "\t<tr><th scope=col>&lt;chr&gt;</th><th scope=col>&lt;chr&gt;</th><th scope=col>&lt;dttm&gt;</th><th scope=col>&lt;dttm&gt;</th><th scope=col>&lt;chr&gt;</th><th scope=col>&lt;chr&gt;</th><th scope=col>&lt;chr&gt;</th><th scope=col>&lt;chr&gt;</th><th scope=col>&lt;dbl&gt;</th><th scope=col>&lt;dbl&gt;</th><th scope=col>&lt;dbl&gt;</th><th scope=col>&lt;dbl&gt;</th><th scope=col>&lt;chr&gt;</th></tr>\n",
       "</thead>\n",
       "<tbody>\n",
       "\t<tr><td>C2F7DD78E82EC875</td><td>electric_bike</td><td>2022-01-13 11:59:47</td><td>2022-01-13 12:02:44</td><td><span style=white-space:pre-wrap>Glenwood Ave &amp; Touhy Ave     </span></td><td><span style=white-space:pre-wrap>525         </span></td><td><span style=white-space:pre-wrap>Clark St &amp; Touhy Ave         </span></td><td><span style=white-space:pre-wrap>RP-007      </span></td><td>42.01280</td><td>-87.66591</td><td>42.01256</td><td>-87.67437</td><td>casual</td></tr>\n",
       "\t<tr><td>A6CF8980A652D272</td><td>electric_bike</td><td>2022-01-10 08:41:56</td><td>2022-01-10 08:46:17</td><td><span style=white-space:pre-wrap>Glenwood Ave &amp; Touhy Ave     </span></td><td><span style=white-space:pre-wrap>525         </span></td><td><span style=white-space:pre-wrap>Clark St &amp; Touhy Ave         </span></td><td><span style=white-space:pre-wrap>RP-007      </span></td><td>42.01276</td><td>-87.66597</td><td>42.01256</td><td>-87.67437</td><td>casual</td></tr>\n",
       "\t<tr><td>BD0F91DFF741C66D</td><td>classic_bike </td><td>2022-01-25 04:53:40</td><td>2022-01-25 04:58:01</td><td>Sheffield Ave &amp; Fullerton Ave</td><td>TA1306000016</td><td>Greenview Ave &amp; Fullerton Ave</td><td>TA1307000001</td><td>41.92560</td><td>-87.65371</td><td>41.92533</td><td>-87.66580</td><td>member</td></tr>\n",
       "\t<tr><td>CBB80ED419105406</td><td>classic_bike </td><td>2022-01-04 00:18:04</td><td>2022-01-04 00:33:00</td><td><span style=white-space:pre-wrap>Clark St &amp; Bryn Mawr Ave     </span></td><td>KA1504000151</td><td><span style=white-space:pre-wrap>Paulina St &amp; Montrose Ave    </span></td><td>TA1309000021</td><td>41.98359</td><td>-87.66915</td><td>41.96151</td><td>-87.67139</td><td>casual</td></tr>\n",
       "\t<tr><td>DDC963BFDDA51EEA</td><td>classic_bike </td><td>2022-01-20 01:31:10</td><td>2022-01-20 01:37:12</td><td><span style=white-space:pre-wrap>Michigan Ave &amp; Jackson Blvd  </span></td><td>TA1309000002</td><td><span style=white-space:pre-wrap>State St &amp; Randolph St       </span></td><td>TA1305000029</td><td>41.87785</td><td>-87.62408</td><td>41.88462</td><td>-87.62783</td><td>member</td></tr>\n",
       "\t<tr><td>A39C6F6CC0586C0B</td><td>classic_bike </td><td>2022-01-11 18:48:09</td><td>2022-01-11 18:51:31</td><td><span style=white-space:pre-wrap>Wood St &amp; Chicago Ave        </span></td><td><span style=white-space:pre-wrap>637         </span></td><td><span style=white-space:pre-wrap>Honore St &amp; Division St      </span></td><td>TA1305000034</td><td>41.89563</td><td>-87.67207</td><td>41.90312</td><td>-87.67394</td><td>member</td></tr>\n",
       "</tbody>\n",
       "</table>\n"
      ],
      "text/latex": [
       "A tibble: 6 × 13\n",
       "\\begin{tabular}{lllllllllllll}\n",
       " ride\\_id & rideable\\_type & started\\_at & ended\\_at & start\\_station\\_name & start\\_station\\_id & end\\_station\\_name & end\\_station\\_id & start\\_lat & start\\_lng & end\\_lat & end\\_lng & member\\_casual\\\\\n",
       " <chr> & <chr> & <dttm> & <dttm> & <chr> & <chr> & <chr> & <chr> & <dbl> & <dbl> & <dbl> & <dbl> & <chr>\\\\\n",
       "\\hline\n",
       "\t C2F7DD78E82EC875 & electric\\_bike & 2022-01-13 11:59:47 & 2022-01-13 12:02:44 & Glenwood Ave \\& Touhy Ave      & 525          & Clark St \\& Touhy Ave          & RP-007       & 42.01280 & -87.66591 & 42.01256 & -87.67437 & casual\\\\\n",
       "\t A6CF8980A652D272 & electric\\_bike & 2022-01-10 08:41:56 & 2022-01-10 08:46:17 & Glenwood Ave \\& Touhy Ave      & 525          & Clark St \\& Touhy Ave          & RP-007       & 42.01276 & -87.66597 & 42.01256 & -87.67437 & casual\\\\\n",
       "\t BD0F91DFF741C66D & classic\\_bike  & 2022-01-25 04:53:40 & 2022-01-25 04:58:01 & Sheffield Ave \\& Fullerton Ave & TA1306000016 & Greenview Ave \\& Fullerton Ave & TA1307000001 & 41.92560 & -87.65371 & 41.92533 & -87.66580 & member\\\\\n",
       "\t CBB80ED419105406 & classic\\_bike  & 2022-01-04 00:18:04 & 2022-01-04 00:33:00 & Clark St \\& Bryn Mawr Ave      & KA1504000151 & Paulina St \\& Montrose Ave     & TA1309000021 & 41.98359 & -87.66915 & 41.96151 & -87.67139 & casual\\\\\n",
       "\t DDC963BFDDA51EEA & classic\\_bike  & 2022-01-20 01:31:10 & 2022-01-20 01:37:12 & Michigan Ave \\& Jackson Blvd   & TA1309000002 & State St \\& Randolph St        & TA1305000029 & 41.87785 & -87.62408 & 41.88462 & -87.62783 & member\\\\\n",
       "\t A39C6F6CC0586C0B & classic\\_bike  & 2022-01-11 18:48:09 & 2022-01-11 18:51:31 & Wood St \\& Chicago Ave         & 637          & Honore St \\& Division St       & TA1305000034 & 41.89563 & -87.67207 & 41.90312 & -87.67394 & member\\\\\n",
       "\\end{tabular}\n"
      ],
      "text/markdown": [
       "\n",
       "A tibble: 6 × 13\n",
       "\n",
       "| ride_id &lt;chr&gt; | rideable_type &lt;chr&gt; | started_at &lt;dttm&gt; | ended_at &lt;dttm&gt; | start_station_name &lt;chr&gt; | start_station_id &lt;chr&gt; | end_station_name &lt;chr&gt; | end_station_id &lt;chr&gt; | start_lat &lt;dbl&gt; | start_lng &lt;dbl&gt; | end_lat &lt;dbl&gt; | end_lng &lt;dbl&gt; | member_casual &lt;chr&gt; |\n",
       "|---|---|---|---|---|---|---|---|---|---|---|---|---|\n",
       "| C2F7DD78E82EC875 | electric_bike | 2022-01-13 11:59:47 | 2022-01-13 12:02:44 | Glenwood Ave &amp; Touhy Ave      | 525          | Clark St &amp; Touhy Ave          | RP-007       | 42.01280 | -87.66591 | 42.01256 | -87.67437 | casual |\n",
       "| A6CF8980A652D272 | electric_bike | 2022-01-10 08:41:56 | 2022-01-10 08:46:17 | Glenwood Ave &amp; Touhy Ave      | 525          | Clark St &amp; Touhy Ave          | RP-007       | 42.01276 | -87.66597 | 42.01256 | -87.67437 | casual |\n",
       "| BD0F91DFF741C66D | classic_bike  | 2022-01-25 04:53:40 | 2022-01-25 04:58:01 | Sheffield Ave &amp; Fullerton Ave | TA1306000016 | Greenview Ave &amp; Fullerton Ave | TA1307000001 | 41.92560 | -87.65371 | 41.92533 | -87.66580 | member |\n",
       "| CBB80ED419105406 | classic_bike  | 2022-01-04 00:18:04 | 2022-01-04 00:33:00 | Clark St &amp; Bryn Mawr Ave      | KA1504000151 | Paulina St &amp; Montrose Ave     | TA1309000021 | 41.98359 | -87.66915 | 41.96151 | -87.67139 | casual |\n",
       "| DDC963BFDDA51EEA | classic_bike  | 2022-01-20 01:31:10 | 2022-01-20 01:37:12 | Michigan Ave &amp; Jackson Blvd   | TA1309000002 | State St &amp; Randolph St        | TA1305000029 | 41.87785 | -87.62408 | 41.88462 | -87.62783 | member |\n",
       "| A39C6F6CC0586C0B | classic_bike  | 2022-01-11 18:48:09 | 2022-01-11 18:51:31 | Wood St &amp; Chicago Ave         | 637          | Honore St &amp; Division St       | TA1305000034 | 41.89563 | -87.67207 | 41.90312 | -87.67394 | member |\n",
       "\n"
      ],
      "text/plain": [
       "  ride_id          rideable_type started_at          ended_at           \n",
       "1 C2F7DD78E82EC875 electric_bike 2022-01-13 11:59:47 2022-01-13 12:02:44\n",
       "2 A6CF8980A652D272 electric_bike 2022-01-10 08:41:56 2022-01-10 08:46:17\n",
       "3 BD0F91DFF741C66D classic_bike  2022-01-25 04:53:40 2022-01-25 04:58:01\n",
       "4 CBB80ED419105406 classic_bike  2022-01-04 00:18:04 2022-01-04 00:33:00\n",
       "5 DDC963BFDDA51EEA classic_bike  2022-01-20 01:31:10 2022-01-20 01:37:12\n",
       "6 A39C6F6CC0586C0B classic_bike  2022-01-11 18:48:09 2022-01-11 18:51:31\n",
       "  start_station_name            start_station_id end_station_name             \n",
       "1 Glenwood Ave & Touhy Ave      525              Clark St & Touhy Ave         \n",
       "2 Glenwood Ave & Touhy Ave      525              Clark St & Touhy Ave         \n",
       "3 Sheffield Ave & Fullerton Ave TA1306000016     Greenview Ave & Fullerton Ave\n",
       "4 Clark St & Bryn Mawr Ave      KA1504000151     Paulina St & Montrose Ave    \n",
       "5 Michigan Ave & Jackson Blvd   TA1309000002     State St & Randolph St       \n",
       "6 Wood St & Chicago Ave         637              Honore St & Division St      \n",
       "  end_station_id start_lat start_lng end_lat  end_lng   member_casual\n",
       "1 RP-007         42.01280  -87.66591 42.01256 -87.67437 casual       \n",
       "2 RP-007         42.01276  -87.66597 42.01256 -87.67437 casual       \n",
       "3 TA1307000001   41.92560  -87.65371 41.92533 -87.66580 member       \n",
       "4 TA1309000021   41.98359  -87.66915 41.96151 -87.67139 casual       \n",
       "5 TA1305000029   41.87785  -87.62408 41.88462 -87.62783 member       \n",
       "6 TA1305000034   41.89563  -87.67207 41.90312 -87.67394 member       "
      ]
     },
     "metadata": {},
     "output_type": "display_data"
    },
    {
     "name": "stdout",
     "output_type": "stream",
     "text": [
      "spc_tbl_ [5,667,717 × 13] (S3: spec_tbl_df/tbl_df/tbl/data.frame)\n",
      " $ ride_id           : chr [1:5667717] \"C2F7DD78E82EC875\" \"A6CF8980A652D272\" \"BD0F91DFF741C66D\" \"CBB80ED419105406\" ...\n",
      " $ rideable_type     : chr [1:5667717] \"electric_bike\" \"electric_bike\" \"classic_bike\" \"classic_bike\" ...\n",
      " $ started_at        : POSIXct[1:5667717], format: \"2022-01-13 11:59:47\" \"2022-01-10 08:41:56\" ...\n",
      " $ ended_at          : POSIXct[1:5667717], format: \"2022-01-13 12:02:44\" \"2022-01-10 08:46:17\" ...\n",
      " $ start_station_name: chr [1:5667717] \"Glenwood Ave & Touhy Ave\" \"Glenwood Ave & Touhy Ave\" \"Sheffield Ave & Fullerton Ave\" \"Clark St & Bryn Mawr Ave\" ...\n",
      " $ start_station_id  : chr [1:5667717] \"525\" \"525\" \"TA1306000016\" \"KA1504000151\" ...\n",
      " $ end_station_name  : chr [1:5667717] \"Clark St & Touhy Ave\" \"Clark St & Touhy Ave\" \"Greenview Ave & Fullerton Ave\" \"Paulina St & Montrose Ave\" ...\n",
      " $ end_station_id    : chr [1:5667717] \"RP-007\" \"RP-007\" \"TA1307000001\" \"TA1309000021\" ...\n",
      " $ start_lat         : num [1:5667717] 42 42 41.9 42 41.9 ...\n",
      " $ start_lng         : num [1:5667717] -87.7 -87.7 -87.7 -87.7 -87.6 ...\n",
      " $ end_lat           : num [1:5667717] 42 42 41.9 42 41.9 ...\n",
      " $ end_lng           : num [1:5667717] -87.7 -87.7 -87.7 -87.7 -87.6 ...\n",
      " $ member_casual     : chr [1:5667717] \"casual\" \"casual\" \"member\" \"casual\" ...\n",
      " - attr(*, \"spec\")=\n",
      "  .. cols(\n",
      "  ..   ride_id = \u001b[31mcol_character()\u001b[39m,\n",
      "  ..   rideable_type = \u001b[31mcol_character()\u001b[39m,\n",
      "  ..   started_at = \u001b[34mcol_datetime(format = \"\")\u001b[39m,\n",
      "  ..   ended_at = \u001b[34mcol_datetime(format = \"\")\u001b[39m,\n",
      "  ..   start_station_name = \u001b[31mcol_character()\u001b[39m,\n",
      "  ..   start_station_id = \u001b[31mcol_character()\u001b[39m,\n",
      "  ..   end_station_name = \u001b[31mcol_character()\u001b[39m,\n",
      "  ..   end_station_id = \u001b[31mcol_character()\u001b[39m,\n",
      "  ..   start_lat = \u001b[32mcol_double()\u001b[39m,\n",
      "  ..   start_lng = \u001b[32mcol_double()\u001b[39m,\n",
      "  ..   end_lat = \u001b[32mcol_double()\u001b[39m,\n",
      "  ..   end_lng = \u001b[32mcol_double()\u001b[39m,\n",
      "  ..   member_casual = \u001b[31mcol_character()\u001b[39m\n",
      "  .. )\n",
      " - attr(*, \"problems\")=<externalptr> \n"
     ]
    },
    {
     "data": {
      "text/html": [
       "5667717"
      ],
      "text/latex": [
       "5667717"
      ],
      "text/markdown": [
       "5667717"
      ],
      "text/plain": [
       "[1] 5667717"
      ]
     },
     "metadata": {},
     "output_type": "display_data"
    },
    {
     "data": {
      "text/html": [
       "<style>\n",
       ".list-inline {list-style: none; margin:0; padding: 0}\n",
       ".list-inline>li {display: inline-block}\n",
       ".list-inline>li:not(:last-child)::after {content: \"\\00b7\"; padding: 0 .5ex}\n",
       "</style>\n",
       "<ol class=list-inline><li>5667717</li><li>13</li></ol>\n"
      ],
      "text/latex": [
       "\\begin{enumerate*}\n",
       "\\item 5667717\n",
       "\\item 13\n",
       "\\end{enumerate*}\n"
      ],
      "text/markdown": [
       "1. 5667717\n",
       "2. 13\n",
       "\n",
       "\n"
      ],
      "text/plain": [
       "[1] 5667717      13"
      ]
     },
     "metadata": {},
     "output_type": "display_data"
    },
    {
     "data": {
      "text/plain": [
       "   ride_id          rideable_type        started_at                 \n",
       " Length:5667717     Length:5667717     Min.   :2022-01-01 00:00:05  \n",
       " Class :character   Class :character   1st Qu.:2022-05-28 19:21:05  \n",
       " Mode  :character   Mode  :character   Median :2022-07-22 15:03:59  \n",
       "                                       Mean   :2022-07-20 07:21:18  \n",
       "                                       3rd Qu.:2022-09-16 07:21:29  \n",
       "                                       Max.   :2022-12-31 23:59:26  \n",
       "                                                                    \n",
       "    ended_at                   start_station_name start_station_id  \n",
       " Min.   :2022-01-01 00:01:48   Length:5667717     Length:5667717    \n",
       " 1st Qu.:2022-05-28 19:43:07   Class :character   Class :character  \n",
       " Median :2022-07-22 15:24:44   Mode  :character   Mode  :character  \n",
       " Mean   :2022-07-20 07:40:45                                        \n",
       " 3rd Qu.:2022-09-16 07:39:03                                        \n",
       " Max.   :2023-01-02 04:56:45                                        \n",
       "                                                                    \n",
       " end_station_name   end_station_id       start_lat       start_lng     \n",
       " Length:5667717     Length:5667717     Min.   :41.64   Min.   :-87.84  \n",
       " Class :character   Class :character   1st Qu.:41.88   1st Qu.:-87.66  \n",
       " Mode  :character   Mode  :character   Median :41.90   Median :-87.64  \n",
       "                                       Mean   :41.90   Mean   :-87.65  \n",
       "                                       3rd Qu.:41.93   3rd Qu.:-87.63  \n",
       "                                       Max.   :45.64   Max.   :-73.80  \n",
       "                                                                       \n",
       "    end_lat         end_lng       member_casual     \n",
       " Min.   : 0.00   Min.   :-88.14   Length:5667717    \n",
       " 1st Qu.:41.88   1st Qu.:-87.66   Class :character  \n",
       " Median :41.90   Median :-87.64   Mode  :character  \n",
       " Mean   :41.90   Mean   :-87.65                     \n",
       " 3rd Qu.:41.93   3rd Qu.:-87.63                     \n",
       " Max.   :42.37   Max.   :  0.00                     \n",
       " NA's   :5858    NA's   :5858                       "
      ]
     },
     "metadata": {},
     "output_type": "display_data"
    }
   ],
   "source": [
    "## Checking new data frame structure\n",
    "colnames(tripdata)  #List of column names\n",
    "head(tripdata)  #See the first 6 rows of data frame.\n",
    "str(tripdata)  #See list of columns and data types (numeric, character, etc)\n",
    "nrow(tripdata)  #How many rows are in data frame?\n",
    "dim(tripdata)  #Dimensions of the data frame?\n",
    "summary(tripdata)  #Statistical summary of data."
   ]
  },
  {
   "cell_type": "markdown",
   "id": "f735c110",
   "metadata": {
    "papermill": {
     "duration": 0.014773,
     "end_time": "2023-03-10T01:03:43.676725",
     "exception": false,
     "start_time": "2023-03-10T01:03:43.661952",
     "status": "completed"
    },
    "tags": []
   },
   "source": [
    "In the \"member_casual\" column, there're two types of members (\"member\" and \"casual\"). In the \"rideable_type\" column, there're three types of bikes (\"classic_bike\", \"electric_bike\" and \"docked_bike\") . We will need to confirm the distinct values for these two columns."
   ]
  },
  {
   "cell_type": "code",
   "execution_count": 7,
   "id": "349b6afa",
   "metadata": {
    "_kg_hide-output": true,
    "execution": {
     "iopub.execute_input": "2023-03-10T01:03:43.711112Z",
     "iopub.status.busy": "2023-03-10T01:03:43.709562Z",
     "iopub.status.idle": "2023-03-10T01:03:43.898280Z",
     "shell.execute_reply": "2023-03-10T01:03:43.896452Z"
    },
    "papermill": {
     "duration": 0.208869,
     "end_time": "2023-03-10T01:03:43.900826",
     "exception": false,
     "start_time": "2023-03-10T01:03:43.691957",
     "status": "completed"
    },
    "tags": []
   },
   "outputs": [],
   "source": [
    "## Checking valus in columns: 'member_casual' and 'rideable_type'\n",
    "unique_member <- unique(tripdata$member_casual)\n",
    "unique_biketype <- unique(tripdata$rideable_type)"
   ]
  },
  {
   "cell_type": "markdown",
   "id": "d094e0af",
   "metadata": {
    "papermill": {
     "duration": 0.014823,
     "end_time": "2023-03-10T01:03:43.930747",
     "exception": false,
     "start_time": "2023-03-10T01:03:43.915924",
     "status": "completed"
    },
    "tags": []
   },
   "source": [
    "The data can only be aggregated at the ride-level. I extracted values into new columns: 'year', 'month', 'date', 'day_of_week' and 'start_time'. And calculated 'ride length' for more detailed analysis."
   ]
  },
  {
   "cell_type": "code",
   "execution_count": 8,
   "id": "3097be34",
   "metadata": {
    "_kg_hide-output": true,
    "execution": {
     "iopub.execute_input": "2023-03-10T01:03:43.964979Z",
     "iopub.status.busy": "2023-03-10T01:03:43.963448Z",
     "iopub.status.idle": "2023-03-10T01:03:58.966107Z",
     "shell.execute_reply": "2023-03-10T01:03:58.963750Z"
    },
    "papermill": {
     "duration": 15.023701,
     "end_time": "2023-03-10T01:03:58.969686",
     "exception": false,
     "start_time": "2023-03-10T01:03:43.945985",
     "status": "completed"
    },
    "tags": []
   },
   "outputs": [
    {
     "data": {
      "text/html": [
       "TRUE"
      ],
      "text/latex": [
       "TRUE"
      ],
      "text/markdown": [
       "TRUE"
      ],
      "text/plain": [
       "[1] TRUE"
      ]
     },
     "metadata": {},
     "output_type": "display_data"
    }
   ],
   "source": [
    "## Adding date, month, year, day of week columns and ride_length\n",
    "tripdata <- tripdata %>% \n",
    "  mutate(year = format(as.Date(started_at), \"%Y\")) %>% # extract year\n",
    "  mutate(month = format(as.Date(started_at), \"%B\")) %>% # extract month\n",
    "  mutate(date = format(as.Date(started_at), \"%d\")) %>% # extract date\n",
    "  mutate(day_of_week = format(as.Date(started_at), \"%A\")) %>% # extract day of week\n",
    "  mutate(ride_length = difftime(ended_at, started_at)) %>% \n",
    "  mutate(start_time = format(as.POSIXct(started_at), \"%H\"))\n",
    "\n",
    "# Converting 'ride_length' to numeric for calculation\n",
    "tripdata <- tripdata %>% \n",
    "  mutate(ride_length = as.numeric(ride_length))\n",
    "is.numeric(tripdata$ride_length) # Checking for right format"
   ]
  },
  {
   "cell_type": "markdown",
   "id": "527bf6e5",
   "metadata": {
    "papermill": {
     "duration": 0.014684,
     "end_time": "2023-03-10T01:03:58.999179",
     "exception": false,
     "start_time": "2023-03-10T01:03:58.984495",
     "status": "completed"
    },
    "tags": []
   },
   "source": [
    "The data frame \"all_trips\" includes a few hundred entries when bikes were taken out of docks and checked for quality by Divvy or ride_length was negative. We will remove these \"bad\" data."
   ]
  },
  {
   "cell_type": "code",
   "execution_count": 9,
   "id": "787764f0",
   "metadata": {
    "_kg_hide-output": true,
    "execution": {
     "iopub.execute_input": "2023-03-10T01:03:59.031910Z",
     "iopub.status.busy": "2023-03-10T01:03:59.030365Z",
     "iopub.status.idle": "2023-03-10T01:04:02.393318Z",
     "shell.execute_reply": "2023-03-10T01:04:02.391519Z"
    },
    "papermill": {
     "duration": 3.383029,
     "end_time": "2023-03-10T01:04:02.396856",
     "exception": false,
     "start_time": "2023-03-10T01:03:59.013827",
     "status": "completed"
    },
    "tags": []
   },
   "outputs": [],
   "source": [
    "## Remove bad data \n",
    "tripdata_clean <- tripdata [!(tripdata$ride_length <= 0),]"
   ]
  },
  {
   "cell_type": "markdown",
   "id": "4b67f379",
   "metadata": {
    "papermill": {
     "duration": 0.014609,
     "end_time": "2023-03-10T01:04:02.427299",
     "exception": false,
     "start_time": "2023-03-10T01:04:02.412690",
     "status": "completed"
    },
    "tags": []
   },
   "source": [
    "# 4. Analyze\n",
    "Conduct descriptive analysis.\n",
    "\n",
    "##### Key Tasks\n",
    "- [x] Aggregate your data so it’s useful and accessible.\n",
    "- [x] Organize and format your data.\n",
    "- [x] Perform calculations.\n",
    "- [x] Identify trends and relationships.\n",
    "\n",
    "##### Deliverable\n",
    "- [x] A summary of the analysis."
   ]
  },
  {
   "cell_type": "code",
   "execution_count": 10,
   "id": "e94ffc76",
   "metadata": {
    "_kg_hide-output": true,
    "execution": {
     "iopub.execute_input": "2023-03-10T01:04:02.460392Z",
     "iopub.status.busy": "2023-03-10T01:04:02.458916Z",
     "iopub.status.idle": "2023-03-10T01:04:05.534052Z",
     "shell.execute_reply": "2023-03-10T01:04:05.532088Z"
    },
    "papermill": {
     "duration": 3.094597,
     "end_time": "2023-03-10T01:04:05.536647",
     "exception": false,
     "start_time": "2023-03-10T01:04:02.442050",
     "status": "completed"
    },
    "tags": []
   },
   "outputs": [
    {
     "data": {
      "text/plain": [
       "   ride_id          rideable_type        started_at                 \n",
       " Length:5667186     Length:5667186     Min.   :2022-01-01 00:00:05  \n",
       " Class :character   Class :character   1st Qu.:2022-05-28 19:20:00  \n",
       " Mode  :character   Mode  :character   Median :2022-07-22 15:01:59  \n",
       "                                       Mean   :2022-07-20 07:19:14  \n",
       "                                       3rd Qu.:2022-09-16 07:18:50  \n",
       "                                       Max.   :2022-12-31 23:59:26  \n",
       "                                                                    \n",
       "    ended_at                   start_station_name start_station_id  \n",
       " Min.   :2022-01-01 00:01:48   Length:5667186     Length:5667186    \n",
       " 1st Qu.:2022-05-28 19:41:54   Class :character   Class :character  \n",
       " Median :2022-07-22 15:22:49   Mode  :character   Mode  :character  \n",
       " Mean   :2022-07-20 07:38:41                                        \n",
       " 3rd Qu.:2022-09-16 07:36:10                                        \n",
       " Max.   :2023-01-02 04:56:45                                        \n",
       "                                                                    \n",
       " end_station_name   end_station_id       start_lat       start_lng     \n",
       " Length:5667186     Length:5667186     Min.   :41.64   Min.   :-87.84  \n",
       " Class :character   Class :character   1st Qu.:41.88   1st Qu.:-87.66  \n",
       " Mode  :character   Mode  :character   Median :41.90   Median :-87.64  \n",
       "                                       Mean   :41.90   Mean   :-87.65  \n",
       "                                       3rd Qu.:41.93   3rd Qu.:-87.63  \n",
       "                                       Max.   :45.64   Max.   :-73.80  \n",
       "                                                                       \n",
       "    end_lat         end_lng       member_casual          year          \n",
       " Min.   : 0.00   Min.   :-88.14   Length:5667186     Length:5667186    \n",
       " 1st Qu.:41.88   1st Qu.:-87.66   Class :character   Class :character  \n",
       " Median :41.90   Median :-87.64   Mode  :character   Mode  :character  \n",
       " Mean   :41.90   Mean   :-87.65                                        \n",
       " 3rd Qu.:41.93   3rd Qu.:-87.63                                        \n",
       " Max.   :42.37   Max.   :  0.00                                        \n",
       " NA's   :5858    NA's   :5858                                          \n",
       "    month               date           day_of_week         ride_length     \n",
       " Length:5667186     Length:5667186     Length:5667186     Min.   :      1  \n",
       " Class :character   Class :character   Class :character   1st Qu.:    349  \n",
       " Mode  :character   Mode  :character   Mode  :character   Median :    617  \n",
       "                                                          Mean   :   1167  \n",
       "                                                          3rd Qu.:   1108  \n",
       "                                                          Max.   :2483235  \n",
       "                                                                           \n",
       "  start_time       \n",
       " Length:5667186    \n",
       " Class :character  \n",
       " Mode  :character  \n",
       "                   \n",
       "                   \n",
       "                   \n",
       "                   "
      ]
     },
     "metadata": {},
     "output_type": "display_data"
    },
    {
     "name": "stdout",
     "output_type": "stream",
     "text": [
      "tibble [5,667,186 × 19] (S3: tbl_df/tbl/data.frame)\n",
      " $ ride_id           : chr [1:5667186] \"C2F7DD78E82EC875\" \"A6CF8980A652D272\" \"BD0F91DFF741C66D\" \"CBB80ED419105406\" ...\n",
      " $ rideable_type     : chr [1:5667186] \"electric_bike\" \"electric_bike\" \"classic_bike\" \"classic_bike\" ...\n",
      " $ started_at        : POSIXct[1:5667186], format: \"2022-01-13 11:59:47\" \"2022-01-10 08:41:56\" ...\n",
      " $ ended_at          : POSIXct[1:5667186], format: \"2022-01-13 12:02:44\" \"2022-01-10 08:46:17\" ...\n",
      " $ start_station_name: chr [1:5667186] \"Glenwood Ave & Touhy Ave\" \"Glenwood Ave & Touhy Ave\" \"Sheffield Ave & Fullerton Ave\" \"Clark St & Bryn Mawr Ave\" ...\n",
      " $ start_station_id  : chr [1:5667186] \"525\" \"525\" \"TA1306000016\" \"KA1504000151\" ...\n",
      " $ end_station_name  : chr [1:5667186] \"Clark St & Touhy Ave\" \"Clark St & Touhy Ave\" \"Greenview Ave & Fullerton Ave\" \"Paulina St & Montrose Ave\" ...\n",
      " $ end_station_id    : chr [1:5667186] \"RP-007\" \"RP-007\" \"TA1307000001\" \"TA1309000021\" ...\n",
      " $ start_lat         : num [1:5667186] 42 42 41.9 42 41.9 ...\n",
      " $ start_lng         : num [1:5667186] -87.7 -87.7 -87.7 -87.7 -87.6 ...\n",
      " $ end_lat           : num [1:5667186] 42 42 41.9 42 41.9 ...\n",
      " $ end_lng           : num [1:5667186] -87.7 -87.7 -87.7 -87.7 -87.6 ...\n",
      " $ member_casual     : chr [1:5667186] \"casual\" \"casual\" \"member\" \"casual\" ...\n",
      " $ year              : chr [1:5667186] \"2022\" \"2022\" \"2022\" \"2022\" ...\n",
      " $ month             : chr [1:5667186] \"January\" \"January\" \"January\" \"January\" ...\n",
      " $ date              : chr [1:5667186] \"13\" \"10\" \"25\" \"04\" ...\n",
      " $ day_of_week       : chr [1:5667186] \"Thursday\" \"Monday\" \"Tuesday\" \"Tuesday\" ...\n",
      " $ ride_length       : num [1:5667186] 177 261 261 896 362 ...\n",
      " $ start_time        : chr [1:5667186] \"11\" \"08\" \"04\" \"00\" ...\n"
     ]
    }
   ],
   "source": [
    "## Checking the summary details of new data frame\n",
    "summary(tripdata_clean)\n",
    "\n",
    "## Checking the structure of new data frame\n",
    "str(tripdata_clean)"
   ]
  },
  {
   "cell_type": "markdown",
   "id": "4f7772c0",
   "metadata": {
    "papermill": {
     "duration": 0.015207,
     "end_time": "2023-03-10T01:04:05.567135",
     "exception": false,
     "start_time": "2023-03-10T01:04:05.551928",
     "status": "completed"
    },
    "tags": []
   },
   "source": [
    "##### **Compare members and casual customers:**"
   ]
  },
  {
   "cell_type": "code",
   "execution_count": 11,
   "id": "c93446b8",
   "metadata": {
    "execution": {
     "iopub.execute_input": "2023-03-10T01:04:05.601412Z",
     "iopub.status.busy": "2023-03-10T01:04:05.599833Z",
     "iopub.status.idle": "2023-03-10T01:04:06.732662Z",
     "shell.execute_reply": "2023-03-10T01:04:06.730909Z"
    },
    "papermill": {
     "duration": 1.15287,
     "end_time": "2023-03-10T01:04:06.735176",
     "exception": false,
     "start_time": "2023-03-10T01:04:05.582306",
     "status": "completed"
    },
    "tags": []
   },
   "outputs": [
    {
     "data": {
      "text/html": [
       "<table class=\"dataframe\">\n",
       "<caption>A tibble: 1 × 4</caption>\n",
       "<thead>\n",
       "\t<tr><th scope=col>average_length</th><th scope=col>median_length</th><th scope=col>max_length</th><th scope=col>min_length</th></tr>\n",
       "\t<tr><th scope=col>&lt;dbl&gt;</th><th scope=col>&lt;dbl&gt;</th><th scope=col>&lt;dbl&gt;</th><th scope=col>&lt;dbl&gt;</th></tr>\n",
       "</thead>\n",
       "<tbody>\n",
       "\t<tr><td>1166.846</td><td>617</td><td>2483235</td><td>1</td></tr>\n",
       "</tbody>\n",
       "</table>\n"
      ],
      "text/latex": [
       "A tibble: 1 × 4\n",
       "\\begin{tabular}{llll}\n",
       " average\\_length & median\\_length & max\\_length & min\\_length\\\\\n",
       " <dbl> & <dbl> & <dbl> & <dbl>\\\\\n",
       "\\hline\n",
       "\t 1166.846 & 617 & 2483235 & 1\\\\\n",
       "\\end{tabular}\n"
      ],
      "text/markdown": [
       "\n",
       "A tibble: 1 × 4\n",
       "\n",
       "| average_length &lt;dbl&gt; | median_length &lt;dbl&gt; | max_length &lt;dbl&gt; | min_length &lt;dbl&gt; |\n",
       "|---|---|---|---|\n",
       "| 1166.846 | 617 | 2483235 | 1 |\n",
       "\n"
      ],
      "text/plain": [
       "  average_length median_length max_length min_length\n",
       "1 1166.846       617           2483235    1         "
      ]
     },
     "metadata": {},
     "output_type": "display_data"
    },
    {
     "data": {
      "text/html": [
       "<table class=\"dataframe\">\n",
       "<caption>A tibble: 2 × 5</caption>\n",
       "<thead>\n",
       "\t<tr><th scope=col>member_casual</th><th scope=col>average_length</th><th scope=col>median_length</th><th scope=col>max_length</th><th scope=col>min_length</th></tr>\n",
       "\t<tr><th scope=col>&lt;chr&gt;</th><th scope=col>&lt;dbl&gt;</th><th scope=col>&lt;dbl&gt;</th><th scope=col>&lt;dbl&gt;</th><th scope=col>&lt;dbl&gt;</th></tr>\n",
       "</thead>\n",
       "<tbody>\n",
       "\t<tr><td>casual</td><td>1748.9000</td><td>780</td><td>2483235</td><td>1</td></tr>\n",
       "\t<tr><td>member</td><td> 762.8915</td><td>530</td><td>  93594</td><td>1</td></tr>\n",
       "</tbody>\n",
       "</table>\n"
      ],
      "text/latex": [
       "A tibble: 2 × 5\n",
       "\\begin{tabular}{lllll}\n",
       " member\\_casual & average\\_length & median\\_length & max\\_length & min\\_length\\\\\n",
       " <chr> & <dbl> & <dbl> & <dbl> & <dbl>\\\\\n",
       "\\hline\n",
       "\t casual & 1748.9000 & 780 & 2483235 & 1\\\\\n",
       "\t member &  762.8915 & 530 &   93594 & 1\\\\\n",
       "\\end{tabular}\n"
      ],
      "text/markdown": [
       "\n",
       "A tibble: 2 × 5\n",
       "\n",
       "| member_casual &lt;chr&gt; | average_length &lt;dbl&gt; | median_length &lt;dbl&gt; | max_length &lt;dbl&gt; | min_length &lt;dbl&gt; |\n",
       "|---|---|---|---|---|\n",
       "| casual | 1748.9000 | 780 | 2483235 | 1 |\n",
       "| member |  762.8915 | 530 |   93594 | 1 |\n",
       "\n"
      ],
      "text/plain": [
       "  member_casual average_length median_length max_length min_length\n",
       "1 casual        1748.9000      780           2483235    1         \n",
       "2 member         762.8915      530             93594    1         "
      ]
     },
     "metadata": {},
     "output_type": "display_data"
    }
   ],
   "source": [
    "## Descriptive analysis for all users (mean, median, max, min)\n",
    "tripdata_clean %>% \n",
    "  summarise(average_length = mean(ride_length), \n",
    "            median_length = median(ride_length), \n",
    "            max_length = max(ride_length), \n",
    "            min_length = min(ride_length))\n",
    "\n",
    "## Descriptive analysis for 'member' and 'casual' (mean, median, max, min)\n",
    "tripdata_clean %>% \n",
    "  group_by(member_casual) %>%\n",
    "  summarise(average_length = mean(ride_length), \n",
    "            median_length = median(ride_length), \n",
    "            max_length = max(ride_length), \n",
    "            min_length = min(ride_length))"
   ]
  },
  {
   "cell_type": "markdown",
   "id": "7c24e4f6",
   "metadata": {
    "papermill": {
     "duration": 0.015464,
     "end_time": "2023-03-10T01:04:06.766379",
     "exception": false,
     "start_time": "2023-03-10T01:04:06.750915",
     "status": "completed"
    },
    "tags": []
   },
   "source": [
    "* From these tables show that 'member' and 'casual' users have different patterns bike usages.\n",
    "* On average, 'casual' users have much longer rides than 'member' users. The average ride length for 'casual' users is 1748.9, while the average ride length for 'member' users is only 762.9.\n",
    "* The median ride length for 'casual' users is also much higher than for 'member' users, at 780 compared to 530."
   ]
  },
  {
   "cell_type": "code",
   "execution_count": 12,
   "id": "a99b2d78",
   "metadata": {
    "_kg_hide-output": false,
    "execution": {
     "iopub.execute_input": "2023-03-10T01:04:06.801939Z",
     "iopub.status.busy": "2023-03-10T01:04:06.800378Z",
     "iopub.status.idle": "2023-03-10T01:04:18.614242Z",
     "shell.execute_reply": "2023-03-10T01:04:18.610828Z"
    },
    "papermill": {
     "duration": 11.834613,
     "end_time": "2023-03-10T01:04:18.617594",
     "exception": false,
     "start_time": "2023-03-10T01:04:06.782981",
     "status": "completed"
    },
    "tags": []
   },
   "outputs": [
    {
     "data": {
      "text/html": [
       "<table class=\"dataframe\">\n",
       "<caption>A tibble: 2 × 3</caption>\n",
       "<thead>\n",
       "\t<tr><th scope=col>member_casual</th><th scope=col>ride_count</th><th scope=col>ride_percentage</th></tr>\n",
       "\t<tr><th scope=col>&lt;chr&gt;</th><th scope=col>&lt;int&gt;</th><th scope=col>&lt;dbl&gt;</th></tr>\n",
       "</thead>\n",
       "<tbody>\n",
       "\t<tr><td>casual</td><td>2321769</td><td>40.96864</td></tr>\n",
       "\t<tr><td>member</td><td>3345417</td><td>59.03136</td></tr>\n",
       "</tbody>\n",
       "</table>\n"
      ],
      "text/latex": [
       "A tibble: 2 × 3\n",
       "\\begin{tabular}{lll}\n",
       " member\\_casual & ride\\_count & ride\\_percentage\\\\\n",
       " <chr> & <int> & <dbl>\\\\\n",
       "\\hline\n",
       "\t casual & 2321769 & 40.96864\\\\\n",
       "\t member & 3345417 & 59.03136\\\\\n",
       "\\end{tabular}\n"
      ],
      "text/markdown": [
       "\n",
       "A tibble: 2 × 3\n",
       "\n",
       "| member_casual &lt;chr&gt; | ride_count &lt;int&gt; | ride_percentage &lt;dbl&gt; |\n",
       "|---|---|---|\n",
       "| casual | 2321769 | 40.96864 |\n",
       "| member | 3345417 | 59.03136 |\n",
       "\n"
      ],
      "text/plain": [
       "  member_casual ride_count ride_percentage\n",
       "1 casual        2321769    40.96864       \n",
       "2 member        3345417    59.03136       "
      ]
     },
     "metadata": {},
     "output_type": "display_data"
    },
    {
     "data": {
      "image/png": "[encoded data removed]"
     },
     "metadata": {
      "image/png": {
       "height": 420,
       "width": 420
      }
     },
     "output_type": "display_data"
    }
   ],
   "source": [
    "## Compare 'member' vs 'casual' riders difference: ride counts\n",
    "tripdata_clean %>% \n",
    "  group_by(member_casual) %>% \n",
    "  summarise(ride_count = length(ride_id), ride_percentage = (length(ride_id) / nrow(tripdata_clean)) * 100)\n",
    "\n",
    "## Visualization to compare 'member' vs 'casual' riders difference: ride counts\n",
    "ggplot(tripdata_clean, aes(x = member_casual, fill=member_casual)) +\n",
    "    geom_bar() +\n",
    "    labs(x=\"Casuals/Members\", y=\"Rides Number\", title= \"Casuals vs Members Ride Counts\")"
   ]
  },
  {
   "cell_type": "markdown",
   "id": "f485e1de",
   "metadata": {
    "papermill": {
     "duration": 0.015997,
     "end_time": "2023-03-10T01:04:18.650264",
     "exception": false,
     "start_time": "2023-03-10T01:04:18.634267",
     "status": "completed"
    },
    "tags": []
   },
   "source": [
    "* We can see the total ride_count in year 2022, 'member' users are ~59% while 'casual' users are ~41%, 'member' ride counts are ~19% higher."
   ]
  },
  {
   "cell_type": "markdown",
   "id": "63789028",
   "metadata": {
    "papermill": {
     "duration": 0.016466,
     "end_time": "2023-03-10T01:04:18.682769",
     "exception": false,
     "start_time": "2023-03-10T01:04:18.666303",
     "status": "completed"
    },
    "tags": []
   },
   "source": [
    "##### **Compare 'member' and 'casual' users on bike usages by each day of week**"
   ]
  },
  {
   "cell_type": "code",
   "execution_count": 13,
   "id": "92fd17bd",
   "metadata": {
    "execution": {
     "iopub.execute_input": "2023-03-10T01:04:18.718456Z",
     "iopub.status.busy": "2023-03-10T01:04:18.716857Z",
     "iopub.status.idle": "2023-03-10T01:04:25.016344Z",
     "shell.execute_reply": "2023-03-10T01:04:25.014750Z"
    },
    "papermill": {
     "duration": 6.319668,
     "end_time": "2023-03-10T01:04:25.018730",
     "exception": false,
     "start_time": "2023-03-10T01:04:18.699062",
     "status": "completed"
    },
    "tags": []
   },
   "outputs": [
    {
     "data": {
      "text/html": [
       "<table class=\"dataframe\">\n",
       "<caption>A tibble: 14 × 4</caption>\n",
       "<thead>\n",
       "\t<tr><th scope=col>member_casual</th><th scope=col>weekday</th><th scope=col>number_of_rides</th><th scope=col>average_duration</th></tr>\n",
       "\t<tr><th scope=col>&lt;chr&gt;</th><th scope=col>&lt;ord&gt;</th><th scope=col>&lt;int&gt;</th><th scope=col>&lt;dbl&gt;</th></tr>\n",
       "</thead>\n",
       "<tbody>\n",
       "\t<tr><td>casual</td><td>Sun</td><td>388981</td><td>2043.6343</td></tr>\n",
       "\t<tr><td>casual</td><td>Mon</td><td>277649</td><td>1751.3805</td></tr>\n",
       "\t<tr><td>casual</td><td>Tue</td><td>263706</td><td>1549.5189</td></tr>\n",
       "\t<tr><td>casual</td><td>Wed</td><td>274339</td><td>1485.1319</td></tr>\n",
       "\t<tr><td>casual</td><td>Thu</td><td>309297</td><td>1533.0238</td></tr>\n",
       "\t<tr><td>casual</td><td>Fri</td><td>334667</td><td>1682.8110</td></tr>\n",
       "\t<tr><td>casual</td><td>Sat</td><td>473130</td><td>1957.0725</td></tr>\n",
       "\t<tr><td>member</td><td>Sun</td><td>387180</td><td> 841.9355</td></tr>\n",
       "\t<tr><td>member</td><td>Mon</td><td>473305</td><td> 736.2531</td></tr>\n",
       "\t<tr><td>member</td><td>Tue</td><td>518584</td><td> 727.8171</td></tr>\n",
       "\t<tr><td>member</td><td>Wed</td><td>523836</td><td> 726.3364</td></tr>\n",
       "\t<tr><td>member</td><td>Thu</td><td>532215</td><td> 737.6191</td></tr>\n",
       "\t<tr><td>member</td><td>Fri</td><td>467051</td><td> 751.8978</td></tr>\n",
       "\t<tr><td>member</td><td>Sat</td><td>443246</td><td> 848.4573</td></tr>\n",
       "</tbody>\n",
       "</table>\n"
      ],
      "text/latex": [
       "A tibble: 14 × 4\n",
       "\\begin{tabular}{llll}\n",
       " member\\_casual & weekday & number\\_of\\_rides & average\\_duration\\\\\n",
       " <chr> & <ord> & <int> & <dbl>\\\\\n",
       "\\hline\n",
       "\t casual & Sun & 388981 & 2043.6343\\\\\n",
       "\t casual & Mon & 277649 & 1751.3805\\\\\n",
       "\t casual & Tue & 263706 & 1549.5189\\\\\n",
       "\t casual & Wed & 274339 & 1485.1319\\\\\n",
       "\t casual & Thu & 309297 & 1533.0238\\\\\n",
       "\t casual & Fri & 334667 & 1682.8110\\\\\n",
       "\t casual & Sat & 473130 & 1957.0725\\\\\n",
       "\t member & Sun & 387180 &  841.9355\\\\\n",
       "\t member & Mon & 473305 &  736.2531\\\\\n",
       "\t member & Tue & 518584 &  727.8171\\\\\n",
       "\t member & Wed & 523836 &  726.3364\\\\\n",
       "\t member & Thu & 532215 &  737.6191\\\\\n",
       "\t member & Fri & 467051 &  751.8978\\\\\n",
       "\t member & Sat & 443246 &  848.4573\\\\\n",
       "\\end{tabular}\n"
      ],
      "text/markdown": [
       "\n",
       "A tibble: 14 × 4\n",
       "\n",
       "| member_casual &lt;chr&gt; | weekday &lt;ord&gt; | number_of_rides &lt;int&gt; | average_duration &lt;dbl&gt; |\n",
       "|---|---|---|---|\n",
       "| casual | Sun | 388981 | 2043.6343 |\n",
       "| casual | Mon | 277649 | 1751.3805 |\n",
       "| casual | Tue | 263706 | 1549.5189 |\n",
       "| casual | Wed | 274339 | 1485.1319 |\n",
       "| casual | Thu | 309297 | 1533.0238 |\n",
       "| casual | Fri | 334667 | 1682.8110 |\n",
       "| casual | Sat | 473130 | 1957.0725 |\n",
       "| member | Sun | 387180 |  841.9355 |\n",
       "| member | Mon | 473305 |  736.2531 |\n",
       "| member | Tue | 518584 |  727.8171 |\n",
       "| member | Wed | 523836 |  726.3364 |\n",
       "| member | Thu | 532215 |  737.6191 |\n",
       "| member | Fri | 467051 |  751.8978 |\n",
       "| member | Sat | 443246 |  848.4573 |\n",
       "\n"
      ],
      "text/plain": [
       "   member_casual weekday number_of_rides average_duration\n",
       "1  casual        Sun     388981          2043.6343       \n",
       "2  casual        Mon     277649          1751.3805       \n",
       "3  casual        Tue     263706          1549.5189       \n",
       "4  casual        Wed     274339          1485.1319       \n",
       "5  casual        Thu     309297          1533.0238       \n",
       "6  casual        Fri     334667          1682.8110       \n",
       "7  casual        Sat     473130          1957.0725       \n",
       "8  member        Sun     387180           841.9355       \n",
       "9  member        Mon     473305           736.2531       \n",
       "10 member        Tue     518584           727.8171       \n",
       "11 member        Wed     523836           726.3364       \n",
       "12 member        Thu     532215           737.6191       \n",
       "13 member        Fri     467051           751.8978       \n",
       "14 member        Sat     443246           848.4573       "
      ]
     },
     "metadata": {},
     "output_type": "display_data"
    }
   ],
   "source": [
    "## See the average ride time by 'day_off_week' for 'member' vs 'casual' users\n",
    "tripdata_clean %>% \n",
    "  mutate(weekday = wday(started_at, label = TRUE)) %>% #creates weekday field using wday()\n",
    "  group_by(member_casual, weekday) %>% #groups by member type and weekday\n",
    "  summarise(number_of_rides = n(),#calculates the number of rides and average duration \n",
    "            average_duration = mean(ride_length),# calculates the average duration\n",
    "            .groups = \"drop\") %>%  # add .groups argument to drop grouping\n",
    "  arrange(member_casual, weekday) # sorts"
   ]
  },
  {
   "cell_type": "markdown",
   "id": "0a062ab9",
   "metadata": {
    "papermill": {
     "duration": 0.016115,
     "end_time": "2023-03-10T01:04:25.050927",
     "exception": false,
     "start_time": "2023-03-10T01:04:25.034812",
     "status": "completed"
    },
    "tags": []
   },
   "source": [
    "##### **Visulization for \"Number of Rides\" by Members & Casual on Each Day of Week**"
   ]
  },
  {
   "cell_type": "code",
   "execution_count": 14,
   "id": "332d2ce1",
   "metadata": {
    "execution": {
     "iopub.execute_input": "2023-03-10T01:04:25.086962Z",
     "iopub.status.busy": "2023-03-10T01:04:25.085369Z",
     "iopub.status.idle": "2023-03-10T01:04:30.986654Z",
     "shell.execute_reply": "2023-03-10T01:04:30.984722Z"
    },
    "papermill": {
     "duration": 5.922037,
     "end_time": "2023-03-10T01:04:30.989270",
     "exception": false,
     "start_time": "2023-03-10T01:04:25.067233",
     "status": "completed"
    },
    "tags": []
   },
   "outputs": [
    {
     "data": {
      "image/png": "[encoded data removed]"
     },
     "metadata": {
      "image/png": {
       "height": 420,
       "width": 420
      }
     },
     "output_type": "display_data"
    }
   ],
   "source": [
    "## Analyze number of rides data by member type and weekday\n",
    "tripdata_clean %>% \n",
    "  mutate(weekday = wday(started_at, label = TRUE)) %>% \n",
    "  group_by(member_casual, weekday) %>% \n",
    "  summarise(number_of_rides = n(), average_duration = mean(ride_length),.groups = \"drop\") %>% \n",
    "  arrange(member_casual, weekday)  %>% \n",
    "  ggplot(aes(x = weekday, y = number_of_rides, fill = member_casual)) +\n",
    "  geom_col(position = \"dodge\") +\n",
    "  labs(title = \"Total Rides by Members & Casual on Each Day of Week\", x = \"Day of Week\", y= \"Ride Counts\")"
   ]
  },
  {
   "cell_type": "markdown",
   "id": "81fa6479",
   "metadata": {
    "papermill": {
     "duration": 0.017029,
     "end_time": "2023-03-10T01:04:31.023287",
     "exception": false,
     "start_time": "2023-03-10T01:04:31.006258",
     "status": "completed"
    },
    "tags": []
   },
   "source": [
    "##### **Visualization for \"Average Duration\" by Members & Casual on Each Day of Week**"
   ]
  },
  {
   "cell_type": "code",
   "execution_count": 15,
   "id": "d4c51bdb",
   "metadata": {
    "execution": {
     "iopub.execute_input": "2023-03-10T01:04:31.060997Z",
     "iopub.status.busy": "2023-03-10T01:04:31.059340Z",
     "iopub.status.idle": "2023-03-10T01:04:37.084913Z",
     "shell.execute_reply": "2023-03-10T01:04:37.083000Z"
    },
    "papermill": {
     "duration": 6.047318,
     "end_time": "2023-03-10T01:04:37.087606",
     "exception": false,
     "start_time": "2023-03-10T01:04:31.040288",
     "status": "completed"
    },
    "tags": []
   },
   "outputs": [
    {
     "data": {
      "image/png": "[encoded data removed]"
     },
     "metadata": {
      "image/png": {
       "height": 420,
       "width": 420
      }
     },
     "output_type": "display_data"
    }
   ],
   "source": [
    "## Analyze average duration data by member type and weekday\n",
    "tripdata_clean %>% \n",
    "  mutate(weekday = wday(started_at, label = TRUE)) %>% \n",
    "  group_by(member_casual, weekday) %>% \n",
    "  summarise(number_of_rides = n(), average_duration = mean(ride_length),.groups = \"drop\") %>% \n",
    "  arrange(member_casual, weekday)  %>% \n",
    "  ggplot(aes(x = weekday, y = average_duration, fill = member_casual)) +\n",
    "  geom_col(position = \"dodge\")+\n",
    "  labs(title = \"Average Duration of Members & Casual on Each Day of Week\", x = \"Day of Week\", y= \"Average Duration\")"
   ]
  },
  {
   "cell_type": "markdown",
   "id": "a422b10b",
   "metadata": {
    "papermill": {
     "duration": 0.05664,
     "end_time": "2023-03-10T01:04:37.162517",
     "exception": false,
     "start_time": "2023-03-10T01:04:37.105877",
     "status": "completed"
    },
    "tags": []
   },
   "source": [
    "* 'member' users took consistent higher amount of trips on weekdays, but there is less rides on the weekends especially on Sunday.\n",
    "* On the other hand, 'casual' users rided on weekends more than weekdays.\n",
    "* The average duration for 'member' are a lot less than 'casual' users.\n",
    "* The average duration of 'member' are genually similar on each day of week.\n",
    "* For 'casual' users, the higher average duration are on the weekends."
   ]
  },
  {
   "cell_type": "markdown",
   "id": "3cb858e4",
   "metadata": {
    "papermill": {
     "duration": 0.017769,
     "end_time": "2023-03-10T01:04:37.197987",
     "exception": false,
     "start_time": "2023-03-10T01:04:37.180218",
     "status": "completed"
    },
    "tags": []
   },
   "source": [
    "##### **Visualization for Total Rides by Members & Casual by Month**"
   ]
  },
  {
   "cell_type": "code",
   "execution_count": 16,
   "id": "977b980d",
   "metadata": {
    "execution": {
     "iopub.execute_input": "2023-03-10T01:04:37.237185Z",
     "iopub.status.busy": "2023-03-10T01:04:37.235404Z",
     "iopub.status.idle": "2023-03-10T01:04:38.328502Z",
     "shell.execute_reply": "2023-03-10T01:04:38.326638Z"
    },
    "papermill": {
     "duration": 1.115124,
     "end_time": "2023-03-10T01:04:38.330810",
     "exception": false,
     "start_time": "2023-03-10T01:04:37.215686",
     "status": "completed"
    },
    "tags": []
   },
   "outputs": [
    {
     "data": {
      "image/png": "[encoded data removed]"
     },
     "metadata": {
      "image/png": {
       "height": 420,
       "width": 420
      }
     },
     "output_type": "display_data"
    }
   ],
   "source": [
    "## Analyze number of rides data by member type and month\n",
    "tripdata_clean$month <- ordered(tripdata_clean$month, levels=c(\"January\", \"February\", \"March\", \"April\", \"May\", \"June\", \"July\", \"August\", \"September\", \"October\", \"November\", \"December\"))\n",
    "\n",
    "tripdata_clean %>% \n",
    "  group_by(member_casual, month) %>% \n",
    "  summarise(number_of_rides = n(), average_duration = mean(ride_length),.groups = \"drop\") %>% \n",
    "  arrange(member_casual, month)  %>% \n",
    "  ggplot(aes(x = month, y = number_of_rides, fill = member_casual)) +\n",
    "  geom_col(position = \"dodge\") +\n",
    "  labs(title = \"Total Rides by Members & Casual by Month\", x = \"Month\", y= \"Ride Counts\")+\n",
    "  theme(axis.text.x = element_text(angle = 45))"
   ]
  },
  {
   "cell_type": "code",
   "execution_count": 17,
   "id": "3486f736",
   "metadata": {
    "execution": {
     "iopub.execute_input": "2023-03-10T01:04:38.372215Z",
     "iopub.status.busy": "2023-03-10T01:04:38.370634Z",
     "iopub.status.idle": "2023-03-10T01:04:38.941028Z",
     "shell.execute_reply": "2023-03-10T01:04:38.939144Z"
    },
    "papermill": {
     "duration": 0.593553,
     "end_time": "2023-03-10T01:04:38.943324",
     "exception": false,
     "start_time": "2023-03-10T01:04:38.349771",
     "status": "completed"
    },
    "tags": []
   },
   "outputs": [
    {
     "data": {
      "image/png": "[encoded data removed]"
     },
     "metadata": {
      "image/png": {
       "height": 420,
       "width": 420
      }
     },
     "output_type": "display_data"
    }
   ],
   "source": [
    "## Analyze total rides time data by member type and month\n",
    "tripdata_clean %>% \n",
    "  group_by(member_casual, month) %>% \n",
    "  summarise(average_ride_length = mean(ride_length),.groups=\"drop\") %>% \n",
    "  ggplot(aes(x = month, y = average_ride_length, fill = member_casual)) +\n",
    "  geom_col(position = \"dodge\") +\n",
    "  labs(title = \"Total Rides Time by Members and Casual by Month\", x = \"Month\", y= \"Ride Time\")+\n",
    "  theme(axis.text.x = element_text(angle = 45))"
   ]
  },
  {
   "cell_type": "markdown",
   "id": "83a98dd2",
   "metadata": {
    "papermill": {
     "duration": 0.019585,
     "end_time": "2023-03-10T01:04:38.983435",
     "exception": false,
     "start_time": "2023-03-10T01:04:38.963850",
     "status": "completed"
    },
    "tags": []
   },
   "source": [
    "* The usage patterns of 'member' and 'casual' users vary by season, with the top months for usage differing between the two groups. 'member' users tend to have the highest ride counts in July, August, and September, while 'casual' users tend to use the service more in June, July, and August.\n",
    "* December, January and February have the less usages for both 'member' and 'casual' users.\n",
    "* 'member' total rides are higher than 'casual' isers throughout the year 2022.\n",
    "* Average ride duration of 'member' is about the same <1000 secs throughout the year. While 'casual' users average ride duration is between 1250 - 2000 secs."
   ]
  },
  {
   "cell_type": "markdown",
   "id": "b26862f1",
   "metadata": {
    "papermill": {
     "duration": 0.019984,
     "end_time": "2023-03-10T01:04:39.022678",
     "exception": false,
     "start_time": "2023-03-10T01:04:39.002694",
     "status": "completed"
    },
    "tags": []
   },
   "source": [
    "##### **Analysis and visualization for bike usages per hour by day of the week**"
   ]
  },
  {
   "cell_type": "code",
   "execution_count": 18,
   "id": "e4de9ace",
   "metadata": {
    "execution": {
     "iopub.execute_input": "2023-03-10T01:04:39.064930Z",
     "iopub.status.busy": "2023-03-10T01:04:39.063265Z",
     "iopub.status.idle": "2023-03-10T01:04:52.542521Z",
     "shell.execute_reply": "2023-03-10T01:04:52.540627Z"
    },
    "papermill": {
     "duration": 13.503553,
     "end_time": "2023-03-10T01:04:52.545637",
     "exception": false,
     "start_time": "2023-03-10T01:04:39.042084",
     "status": "completed"
    },
    "tags": []
   },
   "outputs": [
    {
     "data": {
      "image/png": "[encoded data removed]"
     },
     "metadata": {
      "image/png": {
       "height": 420,
       "width": 420
      }
     },
     "output_type": "display_data"
    }
   ],
   "source": [
    "## Analyze bike usages by hours on each day of the week\n",
    "tripdata_clean %>%\n",
    "    ggplot(aes(start_time, fill=member_casual)) +\n",
    "    geom_bar() +\n",
    "    labs(x=\"Hour of The Day\", title=\"Bike Usages per Hour by Day of the Week\") +\n",
    "    facet_wrap(~ day_of_week)"
   ]
  },
  {
   "cell_type": "markdown",
   "id": "e92c8659",
   "metadata": {
    "papermill": {
     "duration": 0.022068,
     "end_time": "2023-03-10T01:04:52.589296",
     "exception": false,
     "start_time": "2023-03-10T01:04:52.567228",
     "status": "completed"
    },
    "tags": []
   },
   "source": [
    "* Weekdays and weekends show a lot of differences in usage patterns.\n",
    "* On weekdays, there are two big peaks in volume: from 7am to 10am, and from 3pm to 7pm.\n",
    "* Members may use the bikes to go to work every day, so they ride consistently throughout the weekdays.\n",
    "* Casual riders use the service more for fun on the weekends, especially on Friday, Saturday, and Sunday."
   ]
  },
  {
   "cell_type": "markdown",
   "id": "a339d3b7",
   "metadata": {
    "papermill": {
     "duration": 0.020856,
     "end_time": "2023-03-10T01:04:52.631517",
     "exception": false,
     "start_time": "2023-03-10T01:04:52.610661",
     "status": "completed"
    },
    "tags": []
   },
   "source": [
    "##### **Visualization for Rideable Type vs Total Rides by 'Member' and 'Casual' Users**"
   ]
  },
  {
   "cell_type": "code",
   "execution_count": 19,
   "id": "72e3befe",
   "metadata": {
    "execution": {
     "iopub.execute_input": "2023-03-10T01:04:52.676950Z",
     "iopub.status.busy": "2023-03-10T01:04:52.675331Z",
     "iopub.status.idle": "2023-03-10T01:05:03.029648Z",
     "shell.execute_reply": "2023-03-10T01:05:03.027799Z"
    },
    "papermill": {
     "duration": 10.380022,
     "end_time": "2023-03-10T01:05:03.032215",
     "exception": false,
     "start_time": "2023-03-10T01:04:52.652193",
     "status": "completed"
    },
    "tags": []
   },
   "outputs": [
    {
     "data": {
      "text/html": [
       "<table class=\"dataframe\">\n",
       "<caption>A tibble: 3 × 2</caption>\n",
       "<thead>\n",
       "\t<tr><th scope=col>rideable_type</th><th scope=col>count</th></tr>\n",
       "\t<tr><th scope=col>&lt;chr&gt;</th><th scope=col>&lt;int&gt;</th></tr>\n",
       "</thead>\n",
       "<tbody>\n",
       "\t<tr><td>classic_bike </td><td>2601088</td></tr>\n",
       "\t<tr><td>docked_bike  </td><td> 177468</td></tr>\n",
       "\t<tr><td>electric_bike</td><td>2888630</td></tr>\n",
       "</tbody>\n",
       "</table>\n"
      ],
      "text/latex": [
       "A tibble: 3 × 2\n",
       "\\begin{tabular}{ll}\n",
       " rideable\\_type & count\\\\\n",
       " <chr> & <int>\\\\\n",
       "\\hline\n",
       "\t classic\\_bike  & 2601088\\\\\n",
       "\t docked\\_bike   &  177468\\\\\n",
       "\t electric\\_bike & 2888630\\\\\n",
       "\\end{tabular}\n"
      ],
      "text/markdown": [
       "\n",
       "A tibble: 3 × 2\n",
       "\n",
       "| rideable_type &lt;chr&gt; | count &lt;int&gt; |\n",
       "|---|---|\n",
       "| classic_bike  | 2601088 |\n",
       "| docked_bike   |  177468 |\n",
       "| electric_bike | 2888630 |\n",
       "\n"
      ],
      "text/plain": [
       "  rideable_type count  \n",
       "1 classic_bike  2601088\n",
       "2 docked_bike    177468\n",
       "3 electric_bike 2888630"
      ]
     },
     "metadata": {},
     "output_type": "display_data"
    },
    {
     "data": {
      "image/png": "[encoded data removed]"
     },
     "metadata": {
      "image/png": {
       "height": 420,
       "width": 420
      }
     },
     "output_type": "display_data"
    }
   ],
   "source": [
    "## Bike Types Usages by Members & Casual\n",
    "tripdata_clean %>% \n",
    "  group_by(rideable_type) %>% \n",
    "  summarise(count = length(ride_id))\n",
    "\n",
    "ggplot(tripdata_clean, aes(x = rideable_type, fill = member_casual)) +\n",
    "    geom_bar()+\n",
    "  labs(title=\"Rideable type vs Total Rides by Members and Casual Riders\", x=\"Rideable Types\",y= \"Ride Counts\")"
   ]
  },
  {
   "cell_type": "markdown",
   "id": "40acdc62",
   "metadata": {
    "papermill": {
     "duration": 0.021718,
     "end_time": "2023-03-10T01:05:03.076032",
     "exception": false,
     "start_time": "2023-03-10T01:05:03.054314",
     "status": "completed"
    },
    "tags": []
   },
   "source": [
    "* Members mostly use classic bikes, than the electric bikes.\n",
    "* Casual users prefered electric bikes more than classic bikes.\n",
    "* Docked bikes are mostly used by casual riders."
   ]
  },
  {
   "cell_type": "markdown",
   "id": "0fc33f52",
   "metadata": {
    "papermill": {
     "duration": 0.021619,
     "end_time": "2023-03-10T01:05:03.119139",
     "exception": false,
     "start_time": "2023-03-10T01:05:03.097520",
     "status": "completed"
    },
    "tags": []
   },
   "source": [
    "# 5. Share\n",
    "\n",
    "##### Key tasks\n",
    "- [x] Determine the best way to share your findings.\n",
    "- [x] Create effective data visualizations.\n",
    "- [x] Present your findings.\n",
    "- [x] Ensure your work is accessible.\n",
    "\n",
    "##### Deliverable\n",
    "- [x] Supporting visualizations and key findings\n",
    "\n",
    "##### **Main Insights and Finding**\n",
    "* 'Casual' users are more likely to take longer trips than 'member' users. These patterns could be due to differences in the reasons why users use the bike share service, as well as differences in the pricing and incentives offered to 'member' and 'casual' users.\n",
    "* Based on ride count, there were more members than casual users in 2022.\n",
    "* In each month, ride counts were higher for members than casual users. However, casual usage was closer to member usage during June and July compared to other months.\n",
    "* For members, ride counts were higher on weekdays, while trip durations were relatively equal between weekdays and weekends.\n",
    "* For casual users, both ride counts and trip durations were higher on weekends.\n",
    "* There were higher volumes of usage for members during weekday mornings (7am-10am) and afternoons (3pm-7pm)."
   ]
  },
  {
   "cell_type": "markdown",
   "id": "05327ab8",
   "metadata": {
    "papermill": {
     "duration": 0.022048,
     "end_time": "2023-03-10T01:05:03.163002",
     "exception": false,
     "start_time": "2023-03-10T01:05:03.140954",
     "status": "completed"
    },
    "tags": []
   },
   "source": [
    "# 6. Act\n",
    "\n",
    "Marketing and Analytics teams will have meetings for these action plans. Lunching each strategy on each phase, collecting feedback from users, analyze outcomes and revise strategy at the same time.\n",
    "\n",
    "##### Deliverable\n",
    "- [x] Your top three recommendations based on your analysis\n",
    "\n",
    "##### **Solutions:**\n",
    "1. Based on our analysis, we recommend Cyclistic to focus on targeting casual users who use the service as entertainment or for workouts, by creating a health-inspired community through the development of a new mobile application. This application would provide activity tracks and social media picture sharing with the company logo as basic functions. Advanced functions such as calories burned, workout routes recommended, and member rewards would only be available to members. This would help create a sense of exclusivity and incentivize casual users to become members.\n",
    "1. Another recommendation would be to have local artists collaborate and paint limited bikes that are only available for annual members. This could add an element of uniqueness and exclusivity for members and incentivize casual users to become members.\n",
    "1. Finally, Cyclistic could revise the pricing structure for casual users whose monthly usage costs are similar to or greater than members' monthly fees, in order to create a push for transferring to annual memberships. This would increase the company's revenue and help convert casual users into loyal, long-term members."
   ]
  }
 ],
 "metadata": {
  "kernelspec": {
   "display_name": "R",
   "language": "R",
   "name": "ir"
  },
  "language_info": {
   "codemirror_mode": "r",
   "file_extension": ".r",
   "mimetype": "text/x-r-source",
   "name": "R",
   "pygments_lexer": "r",
   "version": "4.0.5"
  },
  "papermill": {
   "default_parameters": {},
   "duration": 127.842285,
   "end_time": "2023-03-10T01:05:03.607616",
   "environment_variables": {},
   "exception": null,
   "input_path": "__notebook__.ipynb",
   "output_path": "__notebook__.ipynb",
   "parameters": {},
   "start_time": "2023-03-10T01:02:55.765331",
   "version": "2.4.0"
  }
 },
 "nbformat": 4,
 "nbformat_minor": 5
}
